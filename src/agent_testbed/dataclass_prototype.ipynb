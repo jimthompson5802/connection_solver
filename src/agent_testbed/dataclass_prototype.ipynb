{
 "cells": [
  {
   "cell_type": "code",
   "execution_count": 18,
   "metadata": {},
   "outputs": [],
   "source": [
    "# setup imports for dataclass\n",
    "from dataclasses import dataclass, field\n",
    "\n",
    "@dataclass\n",
    "class ConnectionGroup:\n",
    "    metric: float=0.0\n",
    "    candidate_words: list = field(default_factory=list)\n",
    "    candidate_connections: list = field(default_factory=list)\n",
    "\n",
    "\n",
    "    def add_entry(self, word, connection):\n",
    "        self.candidate_words.append(word)\n",
    "        self.candidate_connections.append(connection)\n",
    "\n",
    "    def __repr__(self):\n",
    "        return_string = f'{self.metric} {self.candidate_words}'\n",
    "        for connection in self.candidate_connections:\n",
    "            return_string += f'\\n\\t{connection}'\n",
    "        return return_string\n",
    "\n"
   ]
  },
  {
   "cell_type": "code",
   "execution_count": 19,
   "metadata": {},
   "outputs": [],
   "source": [
    "my_list =[]\n",
    "\n",
    "a = ConnectionGroup()\n",
    "a.add_entry('word1', 'connection1')\n",
    "a.add_entry('word2', 'connection2')\n",
    "a.add_entry('word3', 'connection3')\n",
    "a.metric = 0.5\n",
    "\n",
    "b = ConnectionGroup()\n",
    "b.add_entry('word4', 'connection4')\n",
    "b.add_entry('word5', 'connection5')\n",
    "b.add_entry('word6', 'connection6')\n",
    "b.metric = 0.7\n",
    "\n",
    "c = ConnectionGroup()\n",
    "c.add_entry('word7', 'connection7')\n",
    "c.add_entry('word8', 'connection8')\n",
    "c.add_entry('word9', 'connection9')\n",
    "c.metric = 0.9\n",
    "\n",
    "\n",
    "my_list.append(a)\n",
    "my_list.append(b)\n",
    "my_list.append(c)\n",
    "\n"
   ]
  },
  {
   "cell_type": "code",
   "execution_count": 20,
   "metadata": {},
   "outputs": [
    {
     "data": {
      "text/plain": [
       "0.5 ['word1', 'word2', 'word3']\n",
       "\tconnection1\n",
       "\tconnection2\n",
       "\tconnection3"
      ]
     },
     "execution_count": 20,
     "metadata": {},
     "output_type": "execute_result"
    }
   ],
   "source": [
    "my_list[0]"
   ]
  },
  {
   "cell_type": "code",
   "execution_count": 21,
   "metadata": {},
   "outputs": [
    {
     "data": {
      "text/plain": [
       "[0.5 ['word1', 'word2', 'word3']\n",
       " \tconnection1\n",
       " \tconnection2\n",
       " \tconnection3,\n",
       " 0.7 ['word4', 'word5', 'word6']\n",
       " \tconnection4\n",
       " \tconnection5\n",
       " \tconnection6,\n",
       " 0.9 ['word7', 'word8', 'word9']\n",
       " \tconnection7\n",
       " \tconnection8\n",
       " \tconnection9]"
      ]
     },
     "execution_count": 21,
     "metadata": {},
     "output_type": "execute_result"
    }
   ],
   "source": [
    "my_list = sorted(my_list, key=lambda x: x.metric)\n",
    "my_list"
   ]
  },
  {
   "cell_type": "code",
   "execution_count": 22,
   "metadata": {},
   "outputs": [
    {
     "data": {
      "text/plain": [
       "[0.9 ['word7', 'word8', 'word9']\n",
       " \tconnection7\n",
       " \tconnection8\n",
       " \tconnection9,\n",
       " 0.7 ['word4', 'word5', 'word6']\n",
       " \tconnection4\n",
       " \tconnection5\n",
       " \tconnection6,\n",
       " 0.5 ['word1', 'word2', 'word3']\n",
       " \tconnection1\n",
       " \tconnection2\n",
       " \tconnection3]"
      ]
     },
     "execution_count": 22,
     "metadata": {},
     "output_type": "execute_result"
    }
   ],
   "source": [
    "# sort my_list by metric descending\n",
    "my_list = sorted(my_list, key=lambda x: x.metric, reverse=True)\n",
    "my_list"
   ]
  }
 ],
 "metadata": {
  "kernelspec": {
   "display_name": "Python 3",
   "language": "python",
   "name": "python3"
  },
  "language_info": {
   "codemirror_mode": {
    "name": "ipython",
    "version": 3
   },
   "file_extension": ".py",
   "mimetype": "text/x-python",
   "name": "python",
   "nbconvert_exporter": "python",
   "pygments_lexer": "ipython3",
   "version": "3.11.7"
  }
 },
 "nbformat": 4,
 "nbformat_minor": 2
}
