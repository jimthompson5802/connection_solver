{
 "cells": [
  {
   "cell_type": "code",
   "execution_count": 6,
   "metadata": {},
   "outputs": [],
   "source": [
    "import pandas as pd\n",
    "import numpy as np\n",
    "\n",
    "from torch.utils.tensorboard import SummaryWriter\n",
    "import torch"
   ]
  },
  {
   "cell_type": "markdown",
   "metadata": {},
   "source": [
    "## Get embedings"
   ]
  },
  {
   "cell_type": "code",
   "execution_count": 37,
   "metadata": {},
   "outputs": [
    {
     "data": {
      "text/plain": [
       "(80, 3)"
      ]
     },
     "execution_count": 37,
     "metadata": {},
     "output_type": "execute_result"
    }
   ],
   "source": [
    "# load up word embeddings\n",
    "tag = 'word_list2'\n",
    "df = pd.read_pickle('word_list2.pkl')\n",
    "df.shape"
   ]
  },
  {
   "cell_type": "code",
   "execution_count": 38,
   "metadata": {},
   "outputs": [
    {
     "data": {
      "text/html": [
       "<div>\n",
       "<style scoped>\n",
       "    .dataframe tbody tr th:only-of-type {\n",
       "        vertical-align: middle;\n",
       "    }\n",
       "\n",
       "    .dataframe tbody tr th {\n",
       "        vertical-align: top;\n",
       "    }\n",
       "\n",
       "    .dataframe thead th {\n",
       "        text-align: right;\n",
       "    }\n",
       "</style>\n",
       "<table border=\"1\" class=\"dataframe\">\n",
       "  <thead>\n",
       "    <tr style=\"text-align: right;\">\n",
       "      <th></th>\n",
       "      <th>word</th>\n",
       "      <th>definition</th>\n",
       "      <th>embedding</th>\n",
       "    </tr>\n",
       "  </thead>\n",
       "  <tbody>\n",
       "    <tr>\n",
       "      <th>0</th>\n",
       "      <td>inspire</td>\n",
       "      <td>verb: To fill someone with the urge or ability...</td>\n",
       "      <td>[0.056669682264328, -0.029521910473704338, -0....</td>\n",
       "    </tr>\n",
       "    <tr>\n",
       "      <th>1</th>\n",
       "      <td>inspire</td>\n",
       "      <td>verb: To influence or arouse a particular feel...</td>\n",
       "      <td>[0.0282593946903944, -0.08118896931409836, -0....</td>\n",
       "    </tr>\n",
       "    <tr>\n",
       "      <th>2</th>\n",
       "      <td>inspire</td>\n",
       "      <td>verb: To stimulate someone to a higher level o...</td>\n",
       "      <td>[0.03241196274757385, -0.03061419352889061, -0...</td>\n",
       "    </tr>\n",
       "    <tr>\n",
       "      <th>3</th>\n",
       "      <td>inspire</td>\n",
       "      <td>verb: To breathe life or energy into something...</td>\n",
       "      <td>[0.03345229849219322, 0.01821242645382881, -0....</td>\n",
       "    </tr>\n",
       "    <tr>\n",
       "      <th>4</th>\n",
       "      <td>inspire</td>\n",
       "      <td>verb: To inhale; to draw air into the lungs.</td>\n",
       "      <td>[0.01020112819969654, 0.0006023363675922155, -...</td>\n",
       "    </tr>\n",
       "  </tbody>\n",
       "</table>\n",
       "</div>"
      ],
      "text/plain": [
       "      word                                         definition  \\\n",
       "0  inspire  verb: To fill someone with the urge or ability...   \n",
       "1  inspire  verb: To influence or arouse a particular feel...   \n",
       "2  inspire  verb: To stimulate someone to a higher level o...   \n",
       "3  inspire  verb: To breathe life or energy into something...   \n",
       "4  inspire       verb: To inhale; to draw air into the lungs.   \n",
       "\n",
       "                                           embedding  \n",
       "0  [0.056669682264328, -0.029521910473704338, -0....  \n",
       "1  [0.0282593946903944, -0.08118896931409836, -0....  \n",
       "2  [0.03241196274757385, -0.03061419352889061, -0...  \n",
       "3  [0.03345229849219322, 0.01821242645382881, -0....  \n",
       "4  [0.01020112819969654, 0.0006023363675922155, -...  "
      ]
     },
     "execution_count": 38,
     "metadata": {},
     "output_type": "execute_result"
    }
   ],
   "source": [
    "df.head()"
   ]
  },
  {
   "cell_type": "markdown",
   "metadata": {},
   "source": [
    "## Prepare data for storing as TB events"
   ]
  },
  {
   "cell_type": "code",
   "execution_count": 39,
   "metadata": {},
   "outputs": [],
   "source": [
    "# get embeddings\n",
    "embeddings = np.array(df['embedding'].values.tolist())\n",
    "\n",
    "# create metadata string\n",
    "metadata = [(w, d) for w, d in zip(df['word'].values, df['definition'].values)]\n",
    "\n"
   ]
  },
  {
   "cell_type": "code",
   "execution_count": 40,
   "metadata": {},
   "outputs": [],
   "source": [
    "# Create a SummaryWriter to write TensorBoard events\n",
    "writer = SummaryWriter(log_dir=f\"/workspaces/connection_solver/tb_logs/{tag}\")\n",
    "\n",
    "# Add embeddings to TensorBoard\n",
    "writer.add_embedding(\n",
    "    torch.tensor(embeddings), \n",
    "    metadata=metadata, \n",
    "    metadata_header=['word', 'definition'],\n",
    "    tag=f'{tag}_embeddings'\n",
    ")\n",
    "\n",
    "# Close the writer\n",
    "writer.close()"
   ]
  }
 ],
 "metadata": {
  "kernelspec": {
   "display_name": "Python 3",
   "language": "python",
   "name": "python3"
  },
  "language_info": {
   "codemirror_mode": {
    "name": "ipython",
    "version": 3
   },
   "file_extension": ".py",
   "mimetype": "text/x-python",
   "name": "python",
   "nbconvert_exporter": "python",
   "pygments_lexer": "ipython3",
   "version": "3.11.7"
  }
 },
 "nbformat": 4,
 "nbformat_minor": 2
}
