{
 "cells": [
  {
   "cell_type": "markdown",
   "metadata": {},
   "source": [
    "import os\n",
    "\n",
    "os.environ[\"OLLAMA_HOST\"]=\"localhost\"\n",
    "os.environ[\"OLLAMA_PORT\"]=\"11434\""
   ]
  },
  {
   "cell_type": "code",
   "execution_count": 16,
   "metadata": {},
   "outputs": [],
   "source": [
    "from langchain_ollama import ChatOllama,OllamaEmbeddings\n",
    "import numpy as np\n",
    "\n",
    "llm = ChatOllama(\n",
    "    model = \"llama3.2\",\n",
    "    temperature = 0.8,\n",
    "    num_predict = 256,\n",
    "    # other params ...\n",
    ")"
   ]
  },
  {
   "cell_type": "code",
   "execution_count": 17,
   "metadata": {},
   "outputs": [
    {
     "data": {
      "text/plain": [
       "AIMessage(content='Je aime le programme.\\n\\n(Note: I used \"le\" instead of \"la\" because the noun \"programme\" is masculine in French.) \\n\\nIf you want to use the feminine form, it would be:\\n Je aime la programmation.\\n\\nLet me know if you have any other translations!', additional_kwargs={}, response_metadata={'model': 'llama3.2', 'created_at': '2025-01-13T02:42:16.97707638Z', 'done': True, 'done_reason': 'stop', 'total_duration': 11967025378, 'load_duration': 36273198, 'prompt_eval_count': 42, 'prompt_eval_duration': 2037000000, 'eval_count': 60, 'eval_duration': 9891000000, 'message': Message(role='assistant', content='', images=None, tool_calls=None)}, id='run-76f9f801-6cdf-420c-ad02-b33bcf934e7b-0', usage_metadata={'input_tokens': 42, 'output_tokens': 60, 'total_tokens': 102})"
      ]
     },
     "execution_count": 17,
     "metadata": {},
     "output_type": "execute_result"
    }
   ],
   "source": [
    "messages = [\n",
    "    (\"system\", \"You are a helpful translator. Translate the user sentence to French.\"),\n",
    "    (\"human\", \"I love programming.\"),\n",
    "]\n",
    "llm.invoke(messages)"
   ]
  },
  {
   "cell_type": "code",
   "execution_count": 18,
   "metadata": {},
   "outputs": [
    {
     "data": {
      "text/plain": [
       "AIMessage(content=\"Here's one:\\n\\nWhy did the cat join a band?\\n\\nBecause it wanted to be the purr-cussionist! (get it?)\", additional_kwargs={}, response_metadata={'model': 'llama3.2', 'created_at': '2025-01-13T02:42:22.836006542Z', 'done': True, 'done_reason': 'stop', 'total_duration': 5845448929, 'load_duration': 35265766, 'prompt_eval_count': 44, 'prompt_eval_duration': 780000000, 'eval_count': 29, 'eval_duration': 5025000000, 'message': Message(role='assistant', content='', images=None, tool_calls=None)}, id='run-10f9f1c2-bd13-4c12-a4c1-445a5c089c2e-0', usage_metadata={'input_tokens': 44, 'output_tokens': 29, 'total_tokens': 73})"
      ]
     },
     "execution_count": 18,
     "metadata": {},
     "output_type": "execute_result"
    }
   ],
   "source": [
    "messages = [\n",
    "    (\"system\", \"You are a funny comedian. tell me a joke about the subject I specify.\"),\n",
    "    (\"human\", \"subject cats.\"),\n",
    "]\n",
    "llm.invoke(messages)"
   ]
  },
  {
   "cell_type": "code",
   "execution_count": 19,
   "metadata": {},
   "outputs": [],
   "source": [
    "from langchain_ollama import OllamaEmbeddings\n",
    "\n",
    "embed = OllamaEmbeddings(\n",
    "    model=\"llama3.2\"\n",
    ")"
   ]
  },
  {
   "cell_type": "code",
   "execution_count": 20,
   "metadata": {},
   "outputs": [
    {
     "name": "stdout",
     "output_type": "stream",
     "text": [
      "[-0.00091467076, 0.011243158, 0.004669567]\n"
     ]
    }
   ],
   "source": [
    "input_text = \"The meaning of life is 42\"\n",
    "vector = embed.embed_query(input_text)\n",
    "print(vector[:3])"
   ]
  },
  {
   "cell_type": "code",
   "execution_count": 24,
   "metadata": {},
   "outputs": [
    {
     "data": {
      "text/plain": [
       "(3, 3072)"
      ]
     },
     "execution_count": 24,
     "metadata": {},
     "output_type": "execute_result"
    }
   ],
   "source": [
    "sentences = [\"See the cat\", \"See the dog\", \"See the elephant\"]\n",
    "vectors = embed.embed_documents(sentences)\n",
    "\n",
    "vectors = np.array(vectors)\n",
    "\n",
    "vectors.shape"
   ]
  }
 ],
 "metadata": {
  "kernelspec": {
   "display_name": "Python 3",
   "language": "python",
   "name": "python3"
  },
  "language_info": {
   "codemirror_mode": {
    "name": "ipython",
    "version": 3
   },
   "file_extension": ".py",
   "mimetype": "text/x-python",
   "name": "python",
   "nbconvert_exporter": "python",
   "pygments_lexer": "ipython3",
   "version": "3.11.7"
  }
 },
 "nbformat": 4,
 "nbformat_minor": 2
}
