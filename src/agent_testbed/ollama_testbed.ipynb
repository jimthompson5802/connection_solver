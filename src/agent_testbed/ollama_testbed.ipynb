{
 "cells": [
  {
   "cell_type": "markdown",
   "metadata": {},
   "source": [
    "import os\n",
    "\n",
    "os.environ[\"OLLAMA_HOST\"]=\"localhost\"\n",
    "os.environ[\"OLLAMA_PORT\"]=\"11434\""
   ]
  },
  {
   "cell_type": "code",
   "execution_count": 1,
   "metadata": {},
   "outputs": [],
   "source": [
    "from langchain_ollama import ChatOllama\n",
    "\n",
    "llm = ChatOllama(\n",
    "    model = \"llama3.2\",\n",
    "    temperature = 0.8,\n",
    "    num_predict = 256,\n",
    "    # other params ...\n",
    ")"
   ]
  },
  {
   "cell_type": "code",
   "execution_count": 2,
   "metadata": {},
   "outputs": [
    {
     "data": {
      "text/plain": [
       "AIMessage(content='\"Je suis passionné de programmation.\" \\n\\n(Note: The phrase \"Je suis passionné\" is an informal expression that means \"I am passionate\", and it\\'s often used when expressing enthusiasm or strong interest in a subject.)', additional_kwargs={}, response_metadata={'model': 'llama3.2', 'created_at': '2025-01-13T02:10:07.800004487Z', 'done': True, 'done_reason': 'stop', 'total_duration': 29186214425, 'load_duration': 17593444851, 'prompt_eval_count': 42, 'prompt_eval_duration': 1873000000, 'eval_count': 47, 'eval_duration': 8667000000, 'message': Message(role='assistant', content='', images=None, tool_calls=None)}, id='run-b9279783-885d-4ed2-8545-bd8f9286e78a-0', usage_metadata={'input_tokens': 42, 'output_tokens': 47, 'total_tokens': 89})"
      ]
     },
     "execution_count": 2,
     "metadata": {},
     "output_type": "execute_result"
    }
   ],
   "source": [
    "messages = [\n",
    "    (\"system\", \"You are a helpful translator. Translate the user sentence to French.\"),\n",
    "    (\"human\", \"I love programming.\"),\n",
    "]\n",
    "llm.invoke(messages)"
   ]
  },
  {
   "cell_type": "code",
   "execution_count": 3,
   "metadata": {},
   "outputs": [
    {
     "data": {
      "text/plain": [
       "AIMessage(content=\"Here's one:\\n\\nWhy did the cat join a band?\\n\\nBecause it wanted to be the purr-cussionist! (get it?)\", additional_kwargs={}, response_metadata={'model': 'llama3.2', 'created_at': '2025-01-13T02:10:18.66205602Z', 'done': True, 'done_reason': 'stop', 'total_duration': 5260550788, 'load_duration': 44298417, 'prompt_eval_count': 44, 'prompt_eval_duration': 971000000, 'eval_count': 29, 'eval_duration': 4241000000, 'message': Message(role='assistant', content='', images=None, tool_calls=None)}, id='run-8c6885c8-783b-48d7-85b9-36aa80751858-0', usage_metadata={'input_tokens': 44, 'output_tokens': 29, 'total_tokens': 73})"
      ]
     },
     "execution_count": 3,
     "metadata": {},
     "output_type": "execute_result"
    }
   ],
   "source": [
    "messages = [\n",
    "    (\"system\", \"You are a funny comedian. tell me a joke about the subject I specify.\"),\n",
    "    (\"human\", \"subject cats.\"),\n",
    "]\n",
    "llm.invoke(messages)"
   ]
  }
 ],
 "metadata": {
  "kernelspec": {
   "display_name": "Python 3",
   "language": "python",
   "name": "python3"
  },
  "language_info": {
   "codemirror_mode": {
    "name": "ipython",
    "version": 3
   },
   "file_extension": ".py",
   "mimetype": "text/x-python",
   "name": "python",
   "nbconvert_exporter": "python",
   "pygments_lexer": "ipython3",
   "version": "3.11.7"
  }
 },
 "nbformat": 4,
 "nbformat_minor": 2
}
