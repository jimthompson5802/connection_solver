{
 "cells": [
  {
   "cell_type": "markdown",
   "metadata": {},
   "source": [
    "import os\n",
    "\n",
    "os.environ[\"OLLAMA_HOST\"]=\"localhost\"\n",
    "os.environ[\"OLLAMA_PORT\"]=\"11434\""
   ]
  },
  {
   "cell_type": "code",
   "execution_count": 1,
   "metadata": {},
   "outputs": [],
   "source": [
    "from langchain_ollama import ChatOllama\n",
    "\n",
    "llm = ChatOllama(\n",
    "    model = \"llama3.2\",\n",
    "    temperature = 0.8,\n",
    "    num_predict = 256,\n",
    "    # other params ...\n",
    ")"
   ]
  },
  {
   "cell_type": "code",
   "execution_count": 2,
   "metadata": {},
   "outputs": [
    {
     "data": {
      "text/plain": [
       "AIMessage(content='Je aime le programmation.', additional_kwargs={}, response_metadata={'model': 'llama3.2', 'created_at': '2025-01-13T02:15:35.862539144Z', 'done': True, 'done_reason': 'stop', 'total_duration': 30702367467, 'load_duration': 26620321843, 'prompt_eval_count': 42, 'prompt_eval_duration': 1509000000, 'eval_count': 7, 'eval_duration': 1482000000, 'message': Message(role='assistant', content='', images=None, tool_calls=None)}, id='run-9c9bccf4-0509-4d16-94f2-6b20dfe4587e-0', usage_metadata={'input_tokens': 42, 'output_tokens': 7, 'total_tokens': 49})"
      ]
     },
     "execution_count": 2,
     "metadata": {},
     "output_type": "execute_result"
    }
   ],
   "source": [
    "messages = [\n",
    "    (\"system\", \"You are a helpful translator. Translate the user sentence to French.\"),\n",
    "    (\"human\", \"I love programming.\"),\n",
    "]\n",
    "llm.invoke(messages)"
   ]
  },
  {
   "cell_type": "code",
   "execution_count": 4,
   "metadata": {},
   "outputs": [
    {
     "data": {
      "text/plain": [
       "AIMessage(content=\"Here's one:\\n\\nWhy did the cat join a band?\\n\\nBecause it wanted to be the purr-cussionist! (get it?)\", additional_kwargs={}, response_metadata={'model': 'llama3.2', 'created_at': '2025-01-13T02:25:50.283518179Z', 'done': True, 'done_reason': 'stop', 'total_duration': 20869563773, 'load_duration': 13955460131, 'prompt_eval_count': 44, 'prompt_eval_duration': 1164000000, 'eval_count': 29, 'eval_duration': 4776000000, 'message': Message(role='assistant', content='', images=None, tool_calls=None)}, id='run-45b6d912-dfe7-4336-94ee-e0c83353fe55-0', usage_metadata={'input_tokens': 44, 'output_tokens': 29, 'total_tokens': 73})"
      ]
     },
     "execution_count": 4,
     "metadata": {},
     "output_type": "execute_result"
    }
   ],
   "source": [
    "messages = [\n",
    "    (\"system\", \"You are a funny comedian. tell me a joke about the subject I specify.\"),\n",
    "    (\"human\", \"subject cats.\"),\n",
    "]\n",
    "llm.invoke(messages)"
   ]
  }
 ],
 "metadata": {
  "kernelspec": {
   "display_name": "Python 3",
   "language": "python",
   "name": "python3"
  },
  "language_info": {
   "codemirror_mode": {
    "name": "ipython",
    "version": 3
   },
   "file_extension": ".py",
   "mimetype": "text/x-python",
   "name": "python",
   "nbconvert_exporter": "python",
   "pygments_lexer": "ipython3",
   "version": "3.11.7"
  }
 },
 "nbformat": 4,
 "nbformat_minor": 2
}
