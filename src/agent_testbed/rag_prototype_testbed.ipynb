{
 "cells": [
  {
   "cell_type": "code",
   "execution_count": null,
   "metadata": {},
   "outputs": [],
   "source": [
    "from dataclasses import dataclass, field\n",
    "import hashlib\n",
    "import itertools\n",
    "from typing import List, Dict, Any, Tuple, Optional\n",
    "import json\n",
    "import os\n",
    "\n",
    "import pandas as pd\n",
    "import numpy as np\n",
    "\n",
    "# import cosine similarity\n",
    "from sklearn.metrics.pairwise import cosine_similarity\n",
    "\n",
    "from rag_tools import validate_recommendations"
   ]
  },
  {
   "cell_type": "code",
   "execution_count": 133,
   "metadata": {},
   "outputs": [
    {
     "ename": "NameError",
     "evalue": "name 'os' is not defined",
     "output_type": "error",
     "traceback": [
      "\u001b[0;31m---------------------------------------------------------------------------\u001b[0m",
      "\u001b[0;31mNameError\u001b[0m                                 Traceback (most recent call last)",
      "Cell \u001b[0;32mIn[133], line 5\u001b[0m\n\u001b[1;32m      1\u001b[0m \u001b[38;5;28;01mwith\u001b[39;00m \u001b[38;5;28mopen\u001b[39m(\u001b[38;5;124m\"\u001b[39m\u001b[38;5;124m/openai/api_key.json\u001b[39m\u001b[38;5;124m\"\u001b[39m) \u001b[38;5;28;01mas\u001b[39;00m f:\n\u001b[1;32m      2\u001b[0m     config \u001b[38;5;241m=\u001b[39m json\u001b[38;5;241m.\u001b[39mload(f)\n\u001b[0;32m----> 5\u001b[0m \u001b[43mos\u001b[49m\u001b[38;5;241m.\u001b[39menviron[\u001b[38;5;124m\"\u001b[39m\u001b[38;5;124mOPENAI_API_KEY\u001b[39m\u001b[38;5;124m\"\u001b[39m] \u001b[38;5;241m=\u001b[39m config[\u001b[38;5;124m\"\u001b[39m\u001b[38;5;124mkey\u001b[39m\u001b[38;5;124m\"\u001b[39m]\n",
      "\u001b[0;31mNameError\u001b[0m: name 'os' is not defined"
     ]
    }
   ],
   "source": [
    "with open(\"/openai/api_key.json\") as f:\n",
    "    config = json.load(f)\n",
    "\n",
    "\n",
    "os.environ[\"OPENAI_API_KEY\"] = config[\"key\"]"
   ]
  },
  {
   "cell_type": "code",
   "execution_count": null,
   "metadata": {},
   "outputs": [
    {
     "data": {
      "text/plain": [
       "(121, 3)"
      ]
     },
     "execution_count": 127,
     "metadata": {},
     "output_type": "execute_result"
    }
   ],
   "source": [
    "test_vocab = \"word_list5.pkl\"\n",
    "\n",
    "# load the vocabulary\n",
    "df = pd.read_pickle(test_vocab)\n",
    "df.shape"
   ]
  },
  {
   "cell_type": "code",
   "execution_count": null,
   "metadata": {},
   "outputs": [],
   "source": [
    "@dataclass\n",
    "class ConnectionGroup:\n",
    "    group_metric: float = field(default=0.0, metadata={\"help\": \"Average cosine similarity of all combinations of words in the group\"})\n",
    "    root_word: str = field(default=\"\", metadata={\"help\": \"Root word of the group\"})\n",
    "    candidate_pairs: list = field(default_factory=list, metadata={\"help\": \"List of candidate word with definition\"})\n",
    "    group_id: Optional[str] = field(default=None, metadata={\"help\": \"Checksum identifer for the group\"})\n",
    "\n",
    "    def add_entry(self, word, connection):\n",
    "        if len(self.candidate_pairs) < 4:\n",
    "            self.candidate_pairs.append((word, connection))\n",
    "            if len(self.candidate_pairs) == 4:\n",
    "                self.group_id = self._compute_group_id()\n",
    "        else:\n",
    "            raise ValueError(\"Group is full, cannot add more entries\")          \n",
    "\n",
    "    def get_candidate_words(self):\n",
    "        sorted_pairs = sorted(self.candidate_pairs, key=lambda x:x[0])\n",
    "        return [x[0] for x in sorted_pairs]\n",
    "    \n",
    "    def get_candidate_connections(self):\n",
    "        sorted_pairs = sorted(self.candidate_pairs, key=lambda x:x[0])\n",
    "\n",
    "        # strip the part of speech tag at the beginning of the connection, which looks like \"noun:\" or \"verb:\" etc.\n",
    "        # find the first colon and take the substring after it\n",
    "        stripped_connections = [x[1].split(':', 1)[1].strip() if ':' in x[1] else x[1] for x in sorted_pairs]\n",
    "\n",
    "        return stripped_connections\n",
    "    \n",
    "    def _compute_group_id(self):\n",
    "        return hashlib.md5(\"\".join(self.get_candidate_words()).encode()).hexdigest()\n",
    "\n",
    "    def __repr__(self):\n",
    "        return_string = f\"group metric: {self.group_metric}, \"\n",
    "        return_string += f\"root word: {self.root_word}, group id: {self.group_id}\\n\"\n",
    "        return_string += f\"candidate group: {self.get_candidate_words()}\\n\"\n",
    "        for connection in self.get_candidate_connections():\n",
    "            return_string += f\"\\t{connection}\\n\"\n",
    "\n",
    "        return return_string\n",
    "    \n",
    "    # method to determine if the group is equal to another group\n",
    "    def __eq__(self, other):\n",
    "        return set(self.get_candidate_words()) == set(other.get_candidate_words())"
   ]
  },
  {
   "cell_type": "code",
   "execution_count": null,
   "metadata": {},
   "outputs": [
    {
     "data": {
      "text/html": [
       "<div>\n",
       "<style scoped>\n",
       "    .dataframe tbody tr th:only-of-type {\n",
       "        vertical-align: middle;\n",
       "    }\n",
       "\n",
       "    .dataframe tbody tr th {\n",
       "        vertical-align: top;\n",
       "    }\n",
       "\n",
       "    .dataframe thead th {\n",
       "        text-align: right;\n",
       "    }\n",
       "</style>\n",
       "<table border=\"1\" class=\"dataframe\">\n",
       "  <thead>\n",
       "    <tr style=\"text-align: right;\">\n",
       "      <th></th>\n",
       "      <th>word</th>\n",
       "      <th>definition</th>\n",
       "      <th>embedding</th>\n",
       "    </tr>\n",
       "  </thead>\n",
       "  <tbody>\n",
       "    <tr>\n",
       "      <th>0</th>\n",
       "      <td>uphold</td>\n",
       "      <td>verb: to maintain or support something, such a...</td>\n",
       "      <td>[0.05433855205774307, 0.028151938691735268, 0....</td>\n",
       "    </tr>\n",
       "    <tr>\n",
       "      <th>1</th>\n",
       "      <td>uphold</td>\n",
       "      <td>verb: to lift or hold something in an elevated...</td>\n",
       "      <td>[0.006949818227440119, -0.0720582902431488, -0...</td>\n",
       "    </tr>\n",
       "    <tr>\n",
       "      <th>2</th>\n",
       "      <td>uphold</td>\n",
       "      <td>verb: to defend or stand up for a principle or...</td>\n",
       "      <td>[0.0063194772228598595, -0.022249704226851463,...</td>\n",
       "    </tr>\n",
       "    <tr>\n",
       "      <th>3</th>\n",
       "      <td>discard</td>\n",
       "      <td>verb: To throw something away because it is no...</td>\n",
       "      <td>[0.023533722385764122, 0.005563678685575724, -...</td>\n",
       "    </tr>\n",
       "    <tr>\n",
       "      <th>4</th>\n",
       "      <td>discard</td>\n",
       "      <td>verb: To get rid of a card in a game, usually ...</td>\n",
       "      <td>[-6.281930836848915e-05, -0.023267202079296112...</td>\n",
       "    </tr>\n",
       "    <tr>\n",
       "      <th>5</th>\n",
       "      <td>discard</td>\n",
       "      <td>noun: The act of throwing something away.</td>\n",
       "      <td>[0.013182280585169792, 0.010861128568649292, -...</td>\n",
       "    </tr>\n",
       "    <tr>\n",
       "      <th>6</th>\n",
       "      <td>discard</td>\n",
       "      <td>noun: A card that has been thrown away in a ca...</td>\n",
       "      <td>[0.0007180095999501646, -0.007413978222757578,...</td>\n",
       "    </tr>\n",
       "    <tr>\n",
       "      <th>7</th>\n",
       "      <td>honor</td>\n",
       "      <td>noun: Respect and esteem shown to someone or s...</td>\n",
       "      <td>[0.05223957821726799, -0.04617014899849892, -0...</td>\n",
       "    </tr>\n",
       "    <tr>\n",
       "      <th>8</th>\n",
       "      <td>honor</td>\n",
       "      <td>noun: A privilege or mark of distinction.</td>\n",
       "      <td>[0.048169057816267014, -0.009565112181007862, ...</td>\n",
       "    </tr>\n",
       "    <tr>\n",
       "      <th>9</th>\n",
       "      <td>honor</td>\n",
       "      <td>noun: A code of integrity and ethics, often as...</td>\n",
       "      <td>[0.022865494713187218, -0.0090312659740448, 0....</td>\n",
       "    </tr>\n",
       "    <tr>\n",
       "      <th>10</th>\n",
       "      <td>honor</td>\n",
       "      <td>noun: An award or special recognition given to...</td>\n",
       "      <td>[0.04772287979722023, -0.026175541803240776, -...</td>\n",
       "    </tr>\n",
       "    <tr>\n",
       "      <th>11</th>\n",
       "      <td>honor</td>\n",
       "      <td>verb: To regard or treat with admiration and r...</td>\n",
       "      <td>[0.0333557091653347, -0.05366833135485649, -0....</td>\n",
       "    </tr>\n",
       "    <tr>\n",
       "      <th>12</th>\n",
       "      <td>honor</td>\n",
       "      <td>verb: To fulfill or keep an agreement or commi...</td>\n",
       "      <td>[0.011856493540108204, 0.0306888185441494, -0....</td>\n",
       "    </tr>\n",
       "    <tr>\n",
       "      <th>13</th>\n",
       "      <td>honor</td>\n",
       "      <td>verb: To give recognition or pay tribute to so...</td>\n",
       "      <td>[0.05847282335162163, -0.03826715797185898, -0...</td>\n",
       "    </tr>\n",
       "    <tr>\n",
       "      <th>14</th>\n",
       "      <td>energy</td>\n",
       "      <td>noun: The capacity to do work or cause physica...</td>\n",
       "      <td>[0.03348587825894356, 0.04653754457831383, -0....</td>\n",
       "    </tr>\n",
       "  </tbody>\n",
       "</table>\n",
       "</div>"
      ],
      "text/plain": [
       "       word                                         definition  \\\n",
       "0    uphold  verb: to maintain or support something, such a...   \n",
       "1    uphold  verb: to lift or hold something in an elevated...   \n",
       "2    uphold  verb: to defend or stand up for a principle or...   \n",
       "3   discard  verb: To throw something away because it is no...   \n",
       "4   discard  verb: To get rid of a card in a game, usually ...   \n",
       "5   discard          noun: The act of throwing something away.   \n",
       "6   discard  noun: A card that has been thrown away in a ca...   \n",
       "7     honor  noun: Respect and esteem shown to someone or s...   \n",
       "8     honor          noun: A privilege or mark of distinction.   \n",
       "9     honor  noun: A code of integrity and ethics, often as...   \n",
       "10    honor  noun: An award or special recognition given to...   \n",
       "11    honor  verb: To regard or treat with admiration and r...   \n",
       "12    honor  verb: To fulfill or keep an agreement or commi...   \n",
       "13    honor  verb: To give recognition or pay tribute to so...   \n",
       "14   energy  noun: The capacity to do work or cause physica...   \n",
       "\n",
       "                                            embedding  \n",
       "0   [0.05433855205774307, 0.028151938691735268, 0....  \n",
       "1   [0.006949818227440119, -0.0720582902431488, -0...  \n",
       "2   [0.0063194772228598595, -0.022249704226851463,...  \n",
       "3   [0.023533722385764122, 0.005563678685575724, -...  \n",
       "4   [-6.281930836848915e-05, -0.023267202079296112...  \n",
       "5   [0.013182280585169792, 0.010861128568649292, -...  \n",
       "6   [0.0007180095999501646, -0.007413978222757578,...  \n",
       "7   [0.05223957821726799, -0.04617014899849892, -0...  \n",
       "8   [0.048169057816267014, -0.009565112181007862, ...  \n",
       "9   [0.022865494713187218, -0.0090312659740448, 0....  \n",
       "10  [0.04772287979722023, -0.026175541803240776, -...  \n",
       "11  [0.0333557091653347, -0.05366833135485649, -0....  \n",
       "12  [0.011856493540108204, 0.0306888185441494, -0....  \n",
       "13  [0.05847282335162163, -0.03826715797185898, -0...  \n",
       "14  [0.03348587825894356, 0.04653754457831383, -0....  "
      ]
     },
     "execution_count": 129,
     "metadata": {},
     "output_type": "execute_result"
    }
   ],
   "source": [
    "df.head(15)"
   ]
  },
  {
   "cell_type": "code",
   "execution_count": null,
   "metadata": {},
   "outputs": [],
   "source": [
    "def get_candidate_words(df: pd.DataFrame) -> list:\n",
    "    \"\"\"\n",
    "    Generate a list of candidate word groups based on cosine similarity of their embeddings.\n",
    "\n",
    "    Args:\n",
    "        df (pd.DataFrame): DataFrame containing words and their corresponding embeddings. Dataframe should have two columns: 'word', 'definition' and 'embedding', in that order.\n",
    "\n",
    "    Returns:\n",
    "        list: A list of unique candidate word groups sorted by their group metric in descending order.\n",
    "    \"\"\"\n",
    "\n",
    "    candidate_list = []\n",
    "\n",
    "    # create cosine similarity matrix for all pairs of the vectors\n",
    "    cosine_similarities = cosine_similarity(df['embedding'].tolist())\n",
    "    print(cosine_similarities.shape)\n",
    "\n",
    "    # for each row in the cosine similarity matrix, sort by the cosine similarity\n",
    "    sorted_cosine_similarites = np.argsort(cosine_similarities, axis=1)\n",
    "    print(sorted_cosine_similarites.shape)\n",
    "\n",
    "    # group of words that are most similar to each other\n",
    "    for r in range(df.shape[0]):\n",
    "\n",
    "        # get the top 3 closest words that are not the same as the current word and are not already connected\n",
    "        connected_words = set()\n",
    "        top3 = []\n",
    "        for i in range(sorted_cosine_similarites.shape[1]-2, 0, -1):\n",
    "            c = sorted_cosine_similarites[r, i]\n",
    "            \n",
    "            # make sure the word is not already connected and not the current word\n",
    "            if df.iloc[c, 0] not in connected_words and df.iloc[c, 0] != df.iloc[r, 0]:\n",
    "                connected_words.add(df.iloc[c, 0])\n",
    "                top3.append(c)\n",
    "            if len(connected_words) == 3:\n",
    "                break   \n",
    "\n",
    "        # create candidate group for the current word and the top 3 closest words\n",
    "        if df.iloc[r, 0] not in connected_words and len(connected_words) == 3:\n",
    "            candidate_group = ConnectionGroup()\n",
    "            candidate_group.group_metric = cosine_similarities[r, top3].mean()\n",
    "            candidate_group.root_word = df.iloc[r, 0]\n",
    "            candidate_group.add_entry(df.iloc[r, 0], df.iloc[r, 1])\n",
    "            \n",
    "            for c in top3:\n",
    "                candidate_group.add_entry(df.iloc[c, 0], df.iloc[c, 1])\n",
    "\n",
    "            combinations = list(itertools.combinations([r] + top3, 2))\n",
    "            candidate_group.group_metric= np.array([cosine_similarities[r, c] for r,c in combinations]).mean()\n",
    "\n",
    "\n",
    "            candidate_list.append(candidate_group)\n",
    "\n",
    "    # sort the candidate list by the group metric in descending order\n",
    "    candidate_list.sort(key=lambda x: x.group_metric, reverse=True)\n",
    "\n",
    "    # remove duplicate groups\n",
    "    found_groups = set()\n",
    "    unique_candidate_list = []\n",
    "    for candidate in candidate_list:\n",
    "        if candidate.group_id not in found_groups:\n",
    "            unique_candidate_list.append(candidate)\n",
    "            found_groups.add(candidate.group_id)\n",
    "\n",
    "    return unique_candidate_list"
   ]
  },
  {
   "cell_type": "code",
   "execution_count": 134,
   "metadata": {},
   "outputs": [
    {
     "name": "stdout",
     "output_type": "stream",
     "text": [
      "(121, 121)\n",
      "(121, 121)\n",
      "86\n"
     ]
    },
    {
     "ename": "OpenAIError",
     "evalue": "The api_key client option must be set either by passing api_key to the client or by setting the OPENAI_API_KEY environment variable",
     "output_type": "error",
     "traceback": [
      "\u001b[0;31m---------------------------------------------------------------------------\u001b[0m",
      "\u001b[0;31mOpenAIError\u001b[0m                               Traceback (most recent call last)",
      "Cell \u001b[0;32mIn[134], line 4\u001b[0m\n\u001b[1;32m      2\u001b[0m \u001b[38;5;28mprint\u001b[39m(\u001b[38;5;28mlen\u001b[39m(candidate_list))\n\u001b[1;32m      3\u001b[0m list_to_validate \u001b[38;5;241m=\u001b[39m \u001b[38;5;124m\"\u001b[39m\u001b[38;5;130;01m\\n\u001b[39;00m\u001b[38;5;124m\"\u001b[39m\u001b[38;5;241m.\u001b[39mjoin([\u001b[38;5;28mstr\u001b[39m(x) \u001b[38;5;28;01mfor\u001b[39;00m x \u001b[38;5;129;01min\u001b[39;00m candidate_list[:\u001b[38;5;241m10\u001b[39m]])\n\u001b[0;32m----> 4\u001b[0m recommendation_list \u001b[38;5;241m=\u001b[39m \u001b[43mvalidate_recommendations\u001b[49m\u001b[43m(\u001b[49m\u001b[43mlist_to_validate\u001b[49m\u001b[43m)\u001b[49m\n\u001b[1;32m      5\u001b[0m \u001b[38;5;28mprint\u001b[39m(recommendation_list)\n",
      "File \u001b[0;32m/workspaces/connection_solver/src/agent_testbed/rag_tools.py:87\u001b[0m, in \u001b[0;36mvalidate_recommendations\u001b[0;34m(candidates, model, temperature, max_tokens)\u001b[0m\n\u001b[1;32m     84\u001b[0m \u001b[38;5;28;01mdef\u001b[39;00m \u001b[38;5;21mvalidate_recommendations\u001b[39m(candidates, model\u001b[38;5;241m=\u001b[39m\u001b[38;5;124m\"\u001b[39m\u001b[38;5;124mgpt-4o\u001b[39m\u001b[38;5;124m\"\u001b[39m, temperature\u001b[38;5;241m=\u001b[39m\u001b[38;5;241m0.7\u001b[39m, max_tokens\u001b[38;5;241m=\u001b[39m\u001b[38;5;241m4096\u001b[39m):\n\u001b[1;32m     85\u001b[0m \n\u001b[1;32m     86\u001b[0m     \u001b[38;5;66;03m# Initialize the OpenAI LLM with your API key and specify the GPT-4o model\u001b[39;00m\n\u001b[0;32m---> 87\u001b[0m     llm \u001b[38;5;241m=\u001b[39m \u001b[43mChatOpenAI\u001b[49m\u001b[43m(\u001b[49m\n\u001b[1;32m     88\u001b[0m \u001b[43m        \u001b[49m\u001b[43mmodel\u001b[49m\u001b[38;5;241;43m=\u001b[39;49m\u001b[43mmodel\u001b[49m\u001b[43m,\u001b[49m\n\u001b[1;32m     89\u001b[0m \u001b[43m        \u001b[49m\u001b[43mtemperature\u001b[49m\u001b[38;5;241;43m=\u001b[39;49m\u001b[43mtemperature\u001b[49m\u001b[43m,\u001b[49m\n\u001b[1;32m     90\u001b[0m \u001b[43m        \u001b[49m\u001b[43mmax_tokens\u001b[49m\u001b[38;5;241;43m=\u001b[39;49m\u001b[43mmax_tokens\u001b[49m\u001b[43m,\u001b[49m\n\u001b[1;32m     91\u001b[0m \u001b[43m        \u001b[49m\u001b[43mmodel_kwargs\u001b[49m\u001b[38;5;241;43m=\u001b[39;49m\u001b[43m{\u001b[49m\u001b[38;5;124;43m\"\u001b[39;49m\u001b[38;5;124;43mresponse_format\u001b[39;49m\u001b[38;5;124;43m\"\u001b[39;49m\u001b[43m:\u001b[49m\u001b[43m \u001b[49m\u001b[43m{\u001b[49m\u001b[38;5;124;43m\"\u001b[39;49m\u001b[38;5;124;43mtype\u001b[39;49m\u001b[38;5;124;43m\"\u001b[39;49m\u001b[43m:\u001b[49m\u001b[43m \u001b[49m\u001b[38;5;124;43m\"\u001b[39;49m\u001b[38;5;124;43mjson_object\u001b[39;49m\u001b[38;5;124;43m\"\u001b[39;49m\u001b[43m}\u001b[49m\u001b[43m}\u001b[49m\u001b[43m,\u001b[49m\n\u001b[1;32m     92\u001b[0m \u001b[43m    \u001b[49m\u001b[43m)\u001b[49m\n\u001b[1;32m     94\u001b[0m     prompt \u001b[38;5;241m=\u001b[39m HumanMessage(candidates)\n\u001b[1;32m     95\u001b[0m     prompt \u001b[38;5;241m=\u001b[39m [VALIDATOR_SYSTEM_MESSAGE, prompt]\n",
      "File \u001b[0;32m/usr/local/lib/python3.11/site-packages/langchain_core/load/serializable.py:111\u001b[0m, in \u001b[0;36mSerializable.__init__\u001b[0;34m(self, *args, **kwargs)\u001b[0m\n\u001b[1;32m    109\u001b[0m \u001b[38;5;28;01mdef\u001b[39;00m \u001b[38;5;21m__init__\u001b[39m(\u001b[38;5;28mself\u001b[39m, \u001b[38;5;241m*\u001b[39margs: Any, \u001b[38;5;241m*\u001b[39m\u001b[38;5;241m*\u001b[39mkwargs: Any) \u001b[38;5;241m-\u001b[39m\u001b[38;5;241m>\u001b[39m \u001b[38;5;28;01mNone\u001b[39;00m:\n\u001b[1;32m    110\u001b[0m \u001b[38;5;250m    \u001b[39m\u001b[38;5;124;03m\"\"\"\"\"\"\u001b[39;00m\n\u001b[0;32m--> 111\u001b[0m     \u001b[38;5;28;43msuper\u001b[39;49m\u001b[43m(\u001b[49m\u001b[43m)\u001b[49m\u001b[38;5;241;43m.\u001b[39;49m\u001b[38;5;21;43m__init__\u001b[39;49m\u001b[43m(\u001b[49m\u001b[38;5;241;43m*\u001b[39;49m\u001b[43margs\u001b[49m\u001b[43m,\u001b[49m\u001b[43m \u001b[49m\u001b[38;5;241;43m*\u001b[39;49m\u001b[38;5;241;43m*\u001b[39;49m\u001b[43mkwargs\u001b[49m\u001b[43m)\u001b[49m\n",
      "    \u001b[0;31m[... skipping hidden 1 frame]\u001b[0m\n",
      "File \u001b[0;32m/usr/local/lib/python3.11/site-packages/langchain_openai/chat_models/base.py:551\u001b[0m, in \u001b[0;36mBaseChatOpenAI.validate_environment\u001b[0;34m(self)\u001b[0m\n\u001b[1;32m    549\u001b[0m         \u001b[38;5;28mself\u001b[39m\u001b[38;5;241m.\u001b[39mhttp_client \u001b[38;5;241m=\u001b[39m httpx\u001b[38;5;241m.\u001b[39mClient(proxy\u001b[38;5;241m=\u001b[39m\u001b[38;5;28mself\u001b[39m\u001b[38;5;241m.\u001b[39mopenai_proxy)\n\u001b[1;32m    550\u001b[0m     sync_specific \u001b[38;5;241m=\u001b[39m {\u001b[38;5;124m\"\u001b[39m\u001b[38;5;124mhttp_client\u001b[39m\u001b[38;5;124m\"\u001b[39m: \u001b[38;5;28mself\u001b[39m\u001b[38;5;241m.\u001b[39mhttp_client}\n\u001b[0;32m--> 551\u001b[0m     \u001b[38;5;28mself\u001b[39m\u001b[38;5;241m.\u001b[39mroot_client \u001b[38;5;241m=\u001b[39m \u001b[43mopenai\u001b[49m\u001b[38;5;241;43m.\u001b[39;49m\u001b[43mOpenAI\u001b[49m\u001b[43m(\u001b[49m\u001b[38;5;241;43m*\u001b[39;49m\u001b[38;5;241;43m*\u001b[39;49m\u001b[43mclient_params\u001b[49m\u001b[43m,\u001b[49m\u001b[43m \u001b[49m\u001b[38;5;241;43m*\u001b[39;49m\u001b[38;5;241;43m*\u001b[39;49m\u001b[43msync_specific\u001b[49m\u001b[43m)\u001b[49m  \u001b[38;5;66;03m# type: ignore[arg-type]\u001b[39;00m\n\u001b[1;32m    552\u001b[0m     \u001b[38;5;28mself\u001b[39m\u001b[38;5;241m.\u001b[39mclient \u001b[38;5;241m=\u001b[39m \u001b[38;5;28mself\u001b[39m\u001b[38;5;241m.\u001b[39mroot_client\u001b[38;5;241m.\u001b[39mchat\u001b[38;5;241m.\u001b[39mcompletions\n\u001b[1;32m    553\u001b[0m \u001b[38;5;28;01mif\u001b[39;00m \u001b[38;5;129;01mnot\u001b[39;00m \u001b[38;5;28mself\u001b[39m\u001b[38;5;241m.\u001b[39masync_client:\n",
      "File \u001b[0;32m/usr/local/lib/python3.11/site-packages/openai/_client.py:105\u001b[0m, in \u001b[0;36mOpenAI.__init__\u001b[0;34m(self, api_key, organization, project, base_url, timeout, max_retries, default_headers, default_query, http_client, _strict_response_validation)\u001b[0m\n\u001b[1;32m    103\u001b[0m     api_key \u001b[38;5;241m=\u001b[39m os\u001b[38;5;241m.\u001b[39menviron\u001b[38;5;241m.\u001b[39mget(\u001b[38;5;124m\"\u001b[39m\u001b[38;5;124mOPENAI_API_KEY\u001b[39m\u001b[38;5;124m\"\u001b[39m)\n\u001b[1;32m    104\u001b[0m \u001b[38;5;28;01mif\u001b[39;00m api_key \u001b[38;5;129;01mis\u001b[39;00m \u001b[38;5;28;01mNone\u001b[39;00m:\n\u001b[0;32m--> 105\u001b[0m     \u001b[38;5;28;01mraise\u001b[39;00m OpenAIError(\n\u001b[1;32m    106\u001b[0m         \u001b[38;5;124m\"\u001b[39m\u001b[38;5;124mThe api_key client option must be set either by passing api_key to the client or by setting the OPENAI_API_KEY environment variable\u001b[39m\u001b[38;5;124m\"\u001b[39m\n\u001b[1;32m    107\u001b[0m     )\n\u001b[1;32m    108\u001b[0m \u001b[38;5;28mself\u001b[39m\u001b[38;5;241m.\u001b[39mapi_key \u001b[38;5;241m=\u001b[39m api_key\n\u001b[1;32m    110\u001b[0m \u001b[38;5;28;01mif\u001b[39;00m organization \u001b[38;5;129;01mis\u001b[39;00m \u001b[38;5;28;01mNone\u001b[39;00m:\n",
      "\u001b[0;31mOpenAIError\u001b[0m: The api_key client option must be set either by passing api_key to the client or by setting the OPENAI_API_KEY environment variable"
     ]
    }
   ],
   "source": [
    "candidate_list = get_candidate_words(df)\n",
    "print(len(candidate_list))\n",
    "list_to_validate = \"\\n\".join([str(x) for x in candidate_list[:10]])\n",
    "recommendation_list = validate_recommendations(list_to_validate)\n",
    "print(recommendation_list)"
   ]
  },
  {
   "cell_type": "code",
   "execution_count": 125,
   "metadata": {},
   "outputs": [
    {
     "name": "stdout",
     "output_type": "stream",
     "text": [
      "group metric: 0.6683597911897255, root word: blanket, group id: 7f7f5db443336ea81c19f94b4a07d8d8\n",
      "candidate group: ['blanket', 'sham', 'sheet', 'throw']\n",
      "\tA large piece of fabric used to cover and keep warm, typically on a bed.\n",
      "\tA decorative pillow covering or case.\n",
      "\tA large rectangular piece of fabric used for covering a bed.\n",
      "\ta light blanket or cover used for warmth or decoration\n",
      "\n",
      "group metric: 0.6067497164833743, root word: keep, group id: 02f440f2aa99d7c860db64d79479f106\n",
      "candidate group: ['fulfill', 'honor', 'keep', 'uphold']\n",
      "\tto carry out a task or duty as required or expected\n",
      "\tTo fulfill or keep an agreement or commitment.\n",
      "\tto fulfill or adhere to a commitment or promise\n",
      "\tto maintain or support something, such as a decision or a law\n",
      "\n",
      "group metric: 0.580787881810623, root word: pass, group id: 5df52bf83b22266cd2b9516cbf70763e\n",
      "candidate group: ['fulfill', 'honor', 'keep', 'pass']\n",
      "\tto satisfy a requirement, condition, or need\n",
      "\tTo fulfill or keep an agreement or commitment.\n",
      "\tto fulfill or adhere to a commitment or promise\n",
      "\tto succeed in a test or examination\n",
      "\n",
      "group metric: 0.5355596915143087, root word: throw, group id: 6392bedcc900a7f57b24ac66cf6ae7f8\n",
      "candidate group: ['discard', 'pass', 'play', 'throw']\n",
      "\tThe act of throwing something away.\n",
      "\tan act of passing a ball or puck to a teammate\n",
      "\tThe action or manner of engaging in a game or sport, such as 'His play on the field was impressive.'\n",
      "\tan act of throwing something\n",
      "\n",
      "group metric: 0.5335261965084432, root word: throw, group id: b8aa21703cef642dc3f854b8b2282e17\n",
      "candidate group: ['draw', 'keep', 'pass', 'throw']\n",
      "\tto induce a specified reaction or response, such as drawing laughter or applause\n",
      "\tto cause to continue in a specified condition, position, or course\n",
      "\tto move or cause to move in a specified direction\n",
      "\tto cause someone to be in a particular state or situation\n",
      "\n",
      "group metric: 0.5257189789232392, root word: state, group id: 965d3ad0d34e7de22beba707aa50c80a\n",
      "candidate group: ['honor', 'keep', 'pass', 'state']\n",
      "\tTo fulfill or keep an agreement or commitment.\n",
      "\tto fulfill or adhere to a commitment or promise\n",
      "\tto formally approve a law or proposal\n",
      "\tTo specify or set forth, e.g., 'The contract states the terms of the agreement.'\n",
      "\n",
      "group metric: 0.5226079607248215, root word: uphold, group id: 21d95ecc15046a786a7793d21781a54b\n",
      "candidate group: ['honor', 'justice', 'keep', 'uphold']\n",
      "\tTo fulfill or keep an agreement or commitment.\n",
      "\tThe administration of the law or authority in maintaining this\n",
      "\tthe act of maintaining or caring for something\n",
      "\tto maintain or support something, such as a decision or a law\n",
      "\n",
      "group metric: 0.5187704499923674, root word: discard, group id: 405272313f9ded84139014d6e4cedccf\n",
      "candidate group: ['discard', 'draw', 'pass', 'throw']\n",
      "\tThe act of throwing something away.\n",
      "\tthe act of pulling back a bowstring in preparation to shoot an arrow\n",
      "\tan act of passing a ball or puck to a teammate\n",
      "\tan act of throwing something\n",
      "\n",
      "group metric: 0.5129853312791895, root word: justice, group id: 34642743a227d95717ac2d04161792b2\n",
      "candidate group: ['justice', 'keep', 'pass', 'uphold']\n",
      "\tThe administration of the law or authority in maintaining this\n",
      "\tthe act of maintaining or caring for something\n",
      "\tto formally approve a law or proposal\n",
      "\tto maintain or support something, such as a decision or a law\n",
      "\n",
      "group metric: 0.5020594037400601, root word: keep, group id: 5884976ea6db7974e9e4bf82f86e7eb9\n",
      "candidate group: ['keep', 'pass', 'throw', 'uphold']\n",
      "\tto cause to continue in a specified condition, position, or course\n",
      "\tto move or cause to move in a specified direction\n",
      "\tto cause someone to be in a particular state or situation\n",
      "\tto maintain or support something, such as a decision or a law\n",
      "\n"
     ]
    }
   ],
   "source": [
    "print(list_to_validate)"
   ]
  },
  {
   "cell_type": "code",
   "execution_count": 101,
   "metadata": {},
   "outputs": [
    {
     "data": {
      "text/plain": [
       "(29, 3)"
      ]
     },
     "execution_count": 101,
     "metadata": {},
     "output_type": "execute_result"
    }
   ],
   "source": [
    "#  remove from df_combined the rows where the word is in candidate_words\n",
    "df = df[~df['word'].isin(candidate_list[0].get_candidate_words())]\n",
    "df.shape"
   ]
  },
  {
   "cell_type": "code",
   "execution_count": 102,
   "metadata": {},
   "outputs": [
    {
     "data": {
      "text/plain": [
       "(4, array(['discard', 'state', 'justice', 'draw'], dtype=object))"
      ]
     },
     "execution_count": 102,
     "metadata": {},
     "output_type": "execute_result"
    }
   ],
   "source": [
    "len(df.word.unique()),df.word.unique()"
   ]
  },
  {
   "cell_type": "code",
   "execution_count": 103,
   "metadata": {},
   "outputs": [
    {
     "name": "stdout",
     "output_type": "stream",
     "text": [
      "(29, 29)\n",
      "(29, 29)\n",
      "1\n",
      "group metric: 0.3307956064031187, root word: draw, group id: 1815c76bfe1f68bd0508575e7c044575\n",
      "candidate group: ['discard', 'draw', 'justice', 'state']\n",
      "\tThe act of throwing something away.\n",
      "\tan act of selecting a winner or winners in a lottery or similar game of chance\n",
      "\tThe legal system or the act of applying laws\n",
      "\tTo specify or set forth, e.g., 'The contract states the terms of the agreement.'\n",
      "\n"
     ]
    }
   ],
   "source": [
    "candidate_list = get_candidate_words(df)\n",
    "print(len(candidate_list))\n",
    "for candidate in candidate_list[:10]:\n",
    "    print(candidate)"
   ]
  },
  {
   "cell_type": "code",
   "execution_count": 104,
   "metadata": {},
   "outputs": [
    {
     "data": {
      "text/plain": [
       "(0, 3)"
      ]
     },
     "execution_count": 104,
     "metadata": {},
     "output_type": "execute_result"
    }
   ],
   "source": [
    "#  remove from df_combined the rows where the word is in candidate_words\n",
    "df = df[~df['word'].isin(candidate_list[0].get_candidate_words())]\n",
    "df.shape"
   ]
  },
  {
   "cell_type": "markdown",
   "metadata": {},
   "source": [
    "len(df.word.unique()),df.word.unique()"
   ]
  },
  {
   "cell_type": "markdown",
   "metadata": {},
   "source": [
    "candidate_list = get_candidate_words(df)\n",
    "print(len(candidate_list))\n",
    "for candidate in candidate_list[:20]:\n",
    "    print(candidate)"
   ]
  },
  {
   "cell_type": "markdown",
   "metadata": {},
   "source": [
    "#  remove from df_combined the rows where the word is in candidate_words\n",
    "df = df[~df['word'].isin(candidate_list[0].get_candidate_words())]\n",
    "df.shape"
   ]
  },
  {
   "cell_type": "markdown",
   "metadata": {},
   "source": [
    "len(df.word.unique()),df.word.unique()"
   ]
  }
 ],
 "metadata": {
  "kernelspec": {
   "display_name": "Python 3",
   "language": "python",
   "name": "python3"
  },
  "language_info": {
   "codemirror_mode": {
    "name": "ipython",
    "version": 3
   },
   "file_extension": ".py",
   "mimetype": "text/x-python",
   "name": "python",
   "nbconvert_exporter": "python",
   "pygments_lexer": "ipython3",
   "version": "3.11.7"
  }
 },
 "nbformat": 4,
 "nbformat_minor": 2
}
