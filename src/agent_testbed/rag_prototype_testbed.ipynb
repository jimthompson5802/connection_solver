{
 "cells": [
  {
   "cell_type": "code",
   "execution_count": 1,
   "metadata": {},
   "outputs": [],
   "source": [
    "import pandas as pd\n",
    "import numpy as np\n",
    "\n",
    "# import cosine similarity\n",
    "from sklearn.metrics.pairwise import cosine_similarity"
   ]
  },
  {
   "cell_type": "code",
   "execution_count": 2,
   "metadata": {},
   "outputs": [
    {
     "data": {
      "text/plain": [
       "(80, 3)"
      ]
     },
     "execution_count": 2,
     "metadata": {},
     "output_type": "execute_result"
    }
   ],
   "source": [
    "test_vocab = \"word_list2.pkl\"\n",
    "\n",
    "# load the vocabulary\n",
    "df = pd.read_pickle(test_vocab)\n",
    "df.shape"
   ]
  },
  {
   "cell_type": "code",
   "execution_count": 3,
   "metadata": {},
   "outputs": [
    {
     "data": {
      "text/html": [
       "<div>\n",
       "<style scoped>\n",
       "    .dataframe tbody tr th:only-of-type {\n",
       "        vertical-align: middle;\n",
       "    }\n",
       "\n",
       "    .dataframe tbody tr th {\n",
       "        vertical-align: top;\n",
       "    }\n",
       "\n",
       "    .dataframe thead th {\n",
       "        text-align: right;\n",
       "    }\n",
       "</style>\n",
       "<table border=\"1\" class=\"dataframe\">\n",
       "  <thead>\n",
       "    <tr style=\"text-align: right;\">\n",
       "      <th></th>\n",
       "      <th>word</th>\n",
       "      <th>definition</th>\n",
       "      <th>embedding</th>\n",
       "    </tr>\n",
       "  </thead>\n",
       "  <tbody>\n",
       "    <tr>\n",
       "      <th>0</th>\n",
       "      <td>inspire</td>\n",
       "      <td>verb: To fill someone with the urge or ability...</td>\n",
       "      <td>[0.056669682264328, -0.029521910473704338, -0....</td>\n",
       "    </tr>\n",
       "    <tr>\n",
       "      <th>1</th>\n",
       "      <td>inspire</td>\n",
       "      <td>verb: To influence or arouse a particular feel...</td>\n",
       "      <td>[0.0282593946903944, -0.08118896931409836, -0....</td>\n",
       "    </tr>\n",
       "    <tr>\n",
       "      <th>2</th>\n",
       "      <td>inspire</td>\n",
       "      <td>verb: To stimulate someone to a higher level o...</td>\n",
       "      <td>[0.03241196274757385, -0.03061419352889061, -0...</td>\n",
       "    </tr>\n",
       "    <tr>\n",
       "      <th>3</th>\n",
       "      <td>inspire</td>\n",
       "      <td>verb: To breathe life or energy into something...</td>\n",
       "      <td>[0.03345229849219322, 0.01821242645382881, -0....</td>\n",
       "    </tr>\n",
       "    <tr>\n",
       "      <th>4</th>\n",
       "      <td>inspire</td>\n",
       "      <td>verb: To inhale; to draw air into the lungs.</td>\n",
       "      <td>[0.01020112819969654, 0.0006023363675922155, -...</td>\n",
       "    </tr>\n",
       "    <tr>\n",
       "      <th>5</th>\n",
       "      <td>madden</td>\n",
       "      <td>verb: to make someone very angry or irritated</td>\n",
       "      <td>[0.0020106742158532143, -0.046447038650512695,...</td>\n",
       "    </tr>\n",
       "    <tr>\n",
       "      <th>6</th>\n",
       "      <td>madden</td>\n",
       "      <td>verb: to drive someone insane or to cause some...</td>\n",
       "      <td>[0.00396437244489789, -0.051915284246206284, -...</td>\n",
       "    </tr>\n",
       "    <tr>\n",
       "      <th>7</th>\n",
       "      <td>madden</td>\n",
       "      <td>adjective (archaic): insane or mentally unstable</td>\n",
       "      <td>[0.009489667601883411, -0.02472560666501522, -...</td>\n",
       "    </tr>\n",
       "    <tr>\n",
       "      <th>8</th>\n",
       "      <td>madden</td>\n",
       "      <td>adjective: extremely annoying or frustrating</td>\n",
       "      <td>[-0.007401373237371445, -0.0009346121805720031...</td>\n",
       "    </tr>\n",
       "    <tr>\n",
       "      <th>9</th>\n",
       "      <td>madden</td>\n",
       "      <td>noun (archaic): a state of madness or frenzy</td>\n",
       "      <td>[-0.013078952208161354, 0.004764189012348652, ...</td>\n",
       "    </tr>\n",
       "    <tr>\n",
       "      <th>10</th>\n",
       "      <td>jellyfish</td>\n",
       "      <td>noun: A marine creature with a gelatinous, umb...</td>\n",
       "      <td>[0.027367783710360527, 0.037837784737348557, -...</td>\n",
       "    </tr>\n",
       "    <tr>\n",
       "      <th>11</th>\n",
       "      <td>jellyfish</td>\n",
       "      <td>noun: A person who is perceived as weak, spine...</td>\n",
       "      <td>[0.034459348767995834, -0.026775527745485306, ...</td>\n",
       "    </tr>\n",
       "    <tr>\n",
       "      <th>12</th>\n",
       "      <td>jellyfish</td>\n",
       "      <td>noun: A type of dessert or gelatin-based food ...</td>\n",
       "      <td>[-0.013964629732072353, -0.014290847815573215,...</td>\n",
       "    </tr>\n",
       "    <tr>\n",
       "      <th>13</th>\n",
       "      <td>jellyfish</td>\n",
       "      <td>verb: To move or drift aimlessly or without pu...</td>\n",
       "      <td>[0.029841745272278786, 0.0354774184525013, -0....</td>\n",
       "    </tr>\n",
       "    <tr>\n",
       "      <th>14</th>\n",
       "      <td>metroid</td>\n",
       "      <td>noun: A fictional species of parasitic organis...</td>\n",
       "      <td>[0.054969966411590576, 0.03295676410198212, -0...</td>\n",
       "    </tr>\n",
       "  </tbody>\n",
       "</table>\n",
       "</div>"
      ],
      "text/plain": [
       "         word                                         definition  \\\n",
       "0     inspire  verb: To fill someone with the urge or ability...   \n",
       "1     inspire  verb: To influence or arouse a particular feel...   \n",
       "2     inspire  verb: To stimulate someone to a higher level o...   \n",
       "3     inspire  verb: To breathe life or energy into something...   \n",
       "4     inspire       verb: To inhale; to draw air into the lungs.   \n",
       "5      madden      verb: to make someone very angry or irritated   \n",
       "6      madden  verb: to drive someone insane or to cause some...   \n",
       "7      madden   adjective (archaic): insane or mentally unstable   \n",
       "8      madden       adjective: extremely annoying or frustrating   \n",
       "9      madden       noun (archaic): a state of madness or frenzy   \n",
       "10  jellyfish  noun: A marine creature with a gelatinous, umb...   \n",
       "11  jellyfish  noun: A person who is perceived as weak, spine...   \n",
       "12  jellyfish  noun: A type of dessert or gelatin-based food ...   \n",
       "13  jellyfish  verb: To move or drift aimlessly or without pu...   \n",
       "14    metroid  noun: A fictional species of parasitic organis...   \n",
       "\n",
       "                                            embedding  \n",
       "0   [0.056669682264328, -0.029521910473704338, -0....  \n",
       "1   [0.0282593946903944, -0.08118896931409836, -0....  \n",
       "2   [0.03241196274757385, -0.03061419352889061, -0...  \n",
       "3   [0.03345229849219322, 0.01821242645382881, -0....  \n",
       "4   [0.01020112819969654, 0.0006023363675922155, -...  \n",
       "5   [0.0020106742158532143, -0.046447038650512695,...  \n",
       "6   [0.00396437244489789, -0.051915284246206284, -...  \n",
       "7   [0.009489667601883411, -0.02472560666501522, -...  \n",
       "8   [-0.007401373237371445, -0.0009346121805720031...  \n",
       "9   [-0.013078952208161354, 0.004764189012348652, ...  \n",
       "10  [0.027367783710360527, 0.037837784737348557, -...  \n",
       "11  [0.034459348767995834, -0.026775527745485306, ...  \n",
       "12  [-0.013964629732072353, -0.014290847815573215,...  \n",
       "13  [0.029841745272278786, 0.0354774184525013, -0....  \n",
       "14  [0.054969966411590576, 0.03295676410198212, -0...  "
      ]
     },
     "execution_count": 3,
     "metadata": {},
     "output_type": "execute_result"
    }
   ],
   "source": [
    "df.head(15)"
   ]
  },
  {
   "cell_type": "code",
   "execution_count": 4,
   "metadata": {},
   "outputs": [],
   "source": [
    "def get_candidate_words(df):\n",
    "\n",
    "    # create cosine similarity matrix for all pairs of the vectors\n",
    "    cosine_similarities = cosine_similarity(df['embedding'].tolist())\n",
    "    print(cosine_similarities.shape)\n",
    "\n",
    "    # for each row in the cosine similarity matrix, sort by the cosine similarity\n",
    "    sorted_cosine_similarites = np.argsort(cosine_similarities, axis=1)\n",
    "    print(sorted_cosine_similarites.shape)\n",
    "\n",
    "    # group of words that are most similar to each other\n",
    "    max_similarity = -1\n",
    "   \n",
    "    for r in range(df.shape[0]):\n",
    "        # get the top 3 closest words that are not the same as the current word and are not already connected\n",
    "        connected_words = set()\n",
    "        top3 = []\n",
    "        for i in range(sorted_cosine_similarites.shape[1]-2, 0, -1):\n",
    "            c = sorted_cosine_similarites[r, i]\n",
    "            \n",
    "            # make sure the word is not already connected and not the current word\n",
    "            if df.iloc[c, 0] not in connected_words and df.iloc[c, 0] != df.iloc[r, 0]:\n",
    "                connected_words.add(df.iloc[c, 0])\n",
    "                top3.append(c)\n",
    "            if len(connected_words) == 3:\n",
    "                break   \n",
    "\n",
    "        # print current word and connected words\n",
    "        # print(\"\\n\",df.iloc[r,0], connected_words)\n",
    "\n",
    "        # show definiton and cosine similarity measure of the current word and connected words\n",
    "        if df.iloc[r, 0] not in connected_words and len(connected_words) == 3:\n",
    "            mean_similarity = cosine_similarities[r, top3].mean()\n",
    "            # print(df.iloc[r, 0], df.iloc[r,1], mean_similarity)\n",
    "            \n",
    "            # for c in top3:\n",
    "            #     print(\"\\t\",df.iloc[c, 0],df.iloc[c,1], cosine_similarities[r,c])\n",
    "\n",
    "            # Use maximum avearage similarity to select the best group of words\n",
    "            if mean_similarity > max_similarity:\n",
    "                max_similarity = mean_similarity\n",
    "                candidate_words = [mean_similarity] +[df.iloc[r, 0]] + list(connected_words)\n",
    "                candidate_connections = [df.iloc[r, 1]]\n",
    "                for c in top3:\n",
    "                    candidate_connections.append(df.iloc[c, 1])\n",
    "\n",
    "    print(candidate_words)\n",
    "\n",
    "\n",
    "    return sorted(candidate_words[1:]), candidate_connections"
   ]
  },
  {
   "cell_type": "code",
   "execution_count": 5,
   "metadata": {},
   "outputs": [
    {
     "name": "stdout",
     "output_type": "stream",
     "text": [
      "(80, 80)\n",
      "(80, 80)\n",
      "[0.7877791018511658, 'provoke', 'nettle', 'incense', 'prompt']\n",
      "['incense', 'nettle', 'prompt', 'provoke']\n",
      "verb: to incite or stimulate someone to feel or react in a certain way, often anger or irritation.\n",
      "verb: To incite or encourage someone to take action or respond.\n",
      "verb: To provoke or upset someone, causing them to feel uncomfortable or angry.\n",
      "verb: To arouse extreme anger or indignation in someone.\n"
     ]
    }
   ],
   "source": [
    "candidate_words, candidate_conections = get_candidate_words(df)\n",
    "print(candidate_words)\n",
    "for definition in candidate_conections:\n",
    "    print(definition)"
   ]
  },
  {
   "cell_type": "code",
   "execution_count": 6,
   "metadata": {},
   "outputs": [
    {
     "data": {
      "text/plain": [
       "(63, 3)"
      ]
     },
     "execution_count": 6,
     "metadata": {},
     "output_type": "execute_result"
    }
   ],
   "source": [
    "#  remove from df_combined the rows where the word is in candidate_words\n",
    "df = df[~df['word'].isin(candidate_words)]\n",
    "df.shape"
   ]
  },
  {
   "cell_type": "code",
   "execution_count": 7,
   "metadata": {},
   "outputs": [
    {
     "data": {
      "text/plain": [
       "(12,\n",
       " array(['inspire', 'madden', 'jellyfish', 'metroid', 'insult', 'candle',\n",
       "        'halo', 'soap', 'generate', 'civilization', 'lotion', 'wasp'],\n",
       "       dtype=object))"
      ]
     },
     "execution_count": 7,
     "metadata": {},
     "output_type": "execute_result"
    }
   ],
   "source": [
    "len(df.word.unique()),df.word.unique()"
   ]
  },
  {
   "cell_type": "code",
   "execution_count": 8,
   "metadata": {},
   "outputs": [
    {
     "name": "stdout",
     "output_type": "stream",
     "text": [
      "(63, 63)\n",
      "(63, 63)\n",
      "[0.5591091786726455, 'madden', 'inspire', 'insult', 'wasp']\n",
      "['inspire', 'insult', 'madden', 'wasp']\n",
      "verb: to make someone very angry or irritated\n",
      "noun: A figure of speech used to describe a person who is irritable or quick to anger.\n",
      "verb: To influence or arouse a particular feeling or thought in someone.\n",
      "verb: To offend someone by saying or doing something rude or insensitive, like telling a tasteless joke at someone's expense.\n"
     ]
    }
   ],
   "source": [
    "candidate_words, candidate_conections = get_candidate_words(df)\n",
    "print(candidate_words)\n",
    "for definition in candidate_conections:\n",
    "    print(definition)"
   ]
  },
  {
   "cell_type": "code",
   "execution_count": 9,
   "metadata": {},
   "outputs": [
    {
     "data": {
      "text/plain": [
       "(42, 3)"
      ]
     },
     "execution_count": 9,
     "metadata": {},
     "output_type": "execute_result"
    }
   ],
   "source": [
    "#  remove from df_combined the rows where the word is in candidate_words\n",
    "df = df[~df['word'].isin(candidate_words)]\n",
    "df.shape"
   ]
  },
  {
   "cell_type": "code",
   "execution_count": 10,
   "metadata": {},
   "outputs": [
    {
     "data": {
      "text/plain": [
       "(8,\n",
       " array(['jellyfish', 'metroid', 'candle', 'halo', 'soap', 'generate',\n",
       "        'civilization', 'lotion'], dtype=object))"
      ]
     },
     "execution_count": 10,
     "metadata": {},
     "output_type": "execute_result"
    }
   ],
   "source": [
    "len(df.word.unique()),df.word.unique()"
   ]
  },
  {
   "cell_type": "code",
   "execution_count": 11,
   "metadata": {},
   "outputs": [
    {
     "name": "stdout",
     "output_type": "stream",
     "text": [
      "(42, 42)\n",
      "(42, 42)\n",
      "[0.47254372562829544, 'lotion', 'candle', 'jellyfish', 'soap']\n",
      "['candle', 'jellyfish', 'lotion', 'soap']\n",
      "noun: A thick, smooth liquid preparation designed to be applied to the skin for medicinal or cosmetic purposes.\n",
      "noun: A bar or liquid form of the cleaning agent used for personal hygiene.\n",
      "noun: A type of dessert or gelatin-based food that is wobbly and translucent, often fruit-flavored.\n",
      "noun: A cylinder or block of wax or tallow with a wick through its center, used for illumination or for scent.\n"
     ]
    }
   ],
   "source": [
    "candidate_words, candidate_conections = get_candidate_words(df)\n",
    "print(candidate_words)\n",
    "for definition in candidate_conections:\n",
    "    print(definition)"
   ]
  },
  {
   "cell_type": "code",
   "execution_count": 12,
   "metadata": {},
   "outputs": [
    {
     "data": {
      "text/plain": [
       "(21, 3)"
      ]
     },
     "execution_count": 12,
     "metadata": {},
     "output_type": "execute_result"
    }
   ],
   "source": [
    "#  remove from df_combined the rows where the word is in candidate_words\n",
    "df = df[~df['word'].isin(candidate_words)]\n",
    "df.shape"
   ]
  },
  {
   "cell_type": "code",
   "execution_count": 13,
   "metadata": {},
   "outputs": [
    {
     "data": {
      "text/plain": [
       "(4, array(['metroid', 'halo', 'generate', 'civilization'], dtype=object))"
      ]
     },
     "execution_count": 13,
     "metadata": {},
     "output_type": "execute_result"
    }
   ],
   "source": [
    "len(df.word.unique()),df.word.unique()"
   ]
  }
 ],
 "metadata": {
  "kernelspec": {
   "display_name": "Python 3",
   "language": "python",
   "name": "python3"
  },
  "language_info": {
   "codemirror_mode": {
    "name": "ipython",
    "version": 3
   },
   "file_extension": ".py",
   "mimetype": "text/x-python",
   "name": "python",
   "nbconvert_exporter": "python",
   "pygments_lexer": "ipython3",
   "version": "3.11.7"
  }
 },
 "nbformat": 4,
 "nbformat_minor": 2
}
