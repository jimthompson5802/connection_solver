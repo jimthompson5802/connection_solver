{
 "cells": [
  {
   "cell_type": "code",
   "execution_count": null,
   "metadata": {},
   "outputs": [],
   "source": [
    "import json\n",
    "import os\n",
    "import pickle\n",
    "\n",
    "from langchain_core.messages import HumanMessage, SystemMessage\n",
    "from langchain_openai import ChatOpenAI"
   ]
  },
  {
   "cell_type": "code",
   "execution_count": 2,
   "metadata": {},
   "outputs": [],
   "source": [
    "with open(\"/openai/api_key.json\") as f:\n",
    "    config = json.load(f)\n",
    "\n",
    "\n",
    "os.environ[\"OPENAI_API_KEY\"] = config[\"key\"]"
   ]
  },
  {
   "cell_type": "code",
   "execution_count": 3,
   "metadata": {},
   "outputs": [],
   "source": [
    "SYSTEM_MESSAGE = SystemMessage(\"\"\"\n",
    "You are an expert in language and knowledgeable on how words are used.\n",
    "\n",
    "Your task is to generate as many diverse definitions as possible for the a given word.  Follow these steps:\n",
    "\n",
    "1. come up with a list of all possible parts of speech that the given word can be,e.g., noun, verb, adjective, etc.\n",
    "2. for each part of speech, generate one or more examples of the given word for that parts of speech.  preappend the part of speech to the examples, e.g., \"noun: example1\", \"verb: example2\", etc.\n",
    "3. combine all examples into a single list.\n",
    "\n",
    "Return your response as a JSON object with the word as the key and the connotations as a list of strings.\n",
    "\n",
    "example:\n",
    "\n",
    "{\n",
    "  \"word\": [\n",
    "    \"noun: example1\", \n",
    "    \"noun: example2\", \n",
    "    \"adjective: example3\",]\n",
    "}\n",
    "\n",
    "\"\"\")"
   ]
  },
  {
   "cell_type": "code",
   "execution_count": 7,
   "metadata": {},
   "outputs": [],
   "source": [
    "def ask_llm_for_solution(prompt, model=\"gpt-4o\", temperature=0.7, max_tokens=4096):\n",
    "   \n",
    "    # Initialize the OpenAI LLM with your API key and specify the GPT-4o model\n",
    "    llm = ChatOpenAI(\n",
    "        model=model,\n",
    "        temperature=temperature,\n",
    "        max_tokens=max_tokens,\n",
    "        model_kwargs={\"response_format\": {\"type\": \"json_object\"}},\n",
    "    )\n",
    "\n",
    "\n",
    "    conversation = [SYSTEM_MESSAGE, prompt]\n",
    "\n",
    "    # Invoke the LLM\n",
    "    response = llm.invoke(conversation)\n",
    "\n",
    "    return response\n"
   ]
  },
  {
   "cell_type": "code",
   "execution_count": null,
   "metadata": {},
   "outputs": [
    {
     "name": "stdout",
     "output_type": "stream",
     "text": [
      "\n",
      "\n",
      "sham:\n",
      "noun: A thing that is not what it is purported to be, for example, a lie, fraud, or hoax.\n",
      "noun: A decorative pillow covering that is often used for ornamental purposes, such as a pillow sham.\n",
      "verb: To falsely present something as the truth or significance, as in, 'to sham an illness.'\n",
      "adjective: Describing something as fake or counterfeit, for example, 'a sham diamond ring.'\n",
      "\n",
      "\n",
      "blanket:\n",
      "noun: A large piece of fabric used for warmth, usually on a bed; e.g., a woolen blanket.\n",
      "noun: A covering layer; e.g., a blanket of snow covered the town.\n",
      "verb: To cover something completely; e.g., The city was blanketed in fog.\n",
      "adjective: Applying to all instances or situations; e.g., a blanket ban on smoking in public places.\n",
      "\n",
      "\n",
      "throw:\n",
      "verb: to propel something with force through the air by a movement of the arm or hand\n",
      "verb: to discard or get rid of something\n",
      "verb: to cause someone to be in a particular state or condition\n",
      "verb: to confuse or perplex someone\n",
      "verb: to host or organize an event or party\n",
      "noun: an act of propelling something with force through the air\n",
      "noun: a light cover or blanket casually spread, often used on furniture for decoration or warmth\n",
      "noun: a maneuver or technique in sports, especially in wrestling or judo, involving hurling an opponent to the ground\n",
      "noun: the distance something is propelled or the act is made\n",
      "\n",
      "\n",
      "sheet:\n",
      "noun: A large rectangular piece of cloth used to cover a mattress or as bedding.\n",
      "noun: A flat piece of material, such as metal or paper, that is thin relative to its length and width.\n",
      "noun: A broad, thin surface layer that covers something.\n",
      "noun: A piece of paper, especially one of a standard size produced by folding a larger piece.\n",
      "noun: A broad moving flow or layer of water, air, etc.\n",
      "noun: In sailing, a rope used to adjust or control the angle of a sail.\n",
      "verb: To cover with a sheet or sheets, as in to sheet a bed or to sheet a surface with metal.\n",
      "verb: To move or flow, as if in sheets, referring to water or other substances.\n"
     ]
    }
   ],
   "source": [
    "words = [\"uphold\", \"discard\", \"honor\", \"energy\", \"state\", \"play\", \"justice\", \"labor\", \"pass\", \"fulfill\", \"draw\", \"keep\", \"blanket\", \"sham\", \"sheet\", \"throw\"]\n",
    "\n",
    "vocabulary = {}\n",
    "\n",
    "for the_word in words:\n",
    "    prompt = f\"\\n\\ngiven word: {the_word}\"\n",
    "    prompt = HumanMessage(prompt)\n",
    "    result = ask_llm_for_solution(prompt, temperature=1.0, max_tokens=4096)\n",
    "    vocabulary[the_word] = json.loads(result.content)[the_word]\n",
    "\n",
    "for word, definitions in vocabulary.items():\n",
    "    print(f\"\\n\\n{word}:\")\n",
    "    for definition in definitions:\n",
    "        print(definition)\n"
   ]
  },
  {
   "cell_type": "code",
   "execution_count": null,
   "metadata": {},
   "outputs": [],
   "source": [
    "# Save the vocabulary to a file\n",
    "with open(\"vocabulary.pkl\", \"wb\") as f:\n",
    "    pickle.dump(vocabulary, f)"
   ]
  }
 ],
 "metadata": {
  "kernelspec": {
   "display_name": "Python 3",
   "language": "python",
   "name": "python3"
  },
  "language_info": {
   "codemirror_mode": {
    "name": "ipython",
    "version": 3
   },
   "file_extension": ".py",
   "mimetype": "text/x-python",
   "name": "python",
   "nbconvert_exporter": "python",
   "pygments_lexer": "ipython3",
   "version": "3.11.7"
  }
 },
 "nbformat": 4,
 "nbformat_minor": 2
}
