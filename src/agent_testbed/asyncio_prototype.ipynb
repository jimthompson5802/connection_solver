{
 "cells": [
  {
   "cell_type": "code",
   "execution_count": 1,
   "metadata": {},
   "outputs": [],
   "source": [
    "import asyncio\n",
    "import aiosqlite\n",
    "import nest_asyncio\n",
    "nest_asyncio.apply()"
   ]
  },
  {
   "cell_type": "code",
   "execution_count": 2,
   "metadata": {},
   "outputs": [
    {
     "name": "stdout",
     "output_type": "stream",
     "text": [
      "[(1, 1), (2, 2), (3, 3), (4, 4), (5, 5)]\n"
     ]
    }
   ],
   "source": [
    "async def async_db_operation(item, db, db_lock):\n",
    "    async with db_lock:\n",
    "        await db.execute('INSERT INTO example_table (value) VALUES (?)', (item,))\n",
    "        await db.commit()\n",
    "        async with db.execute('SELECT * FROM example_table WHERE value = ?', (item,)) as cursor:\n",
    "            row = await cursor.fetchone()\n",
    "            return row\n",
    "\n",
    "async def main():\n",
    "    db_lock = asyncio.Lock()\n",
    "    async with aiosqlite.connect(':memory:') as db:\n",
    "        await db.execute('CREATE TABLE example_table (id INTEGER PRIMARY KEY, value INTEGER)')\n",
    "        await db.commit()\n",
    "        \n",
    "        items = [1, 2, 3, 4, 5]\n",
    "        tasks = [async_db_operation(item, db, db_lock) for item in items]\n",
    "        results = await asyncio.gather(*tasks)\n",
    "        print(results)\n",
    "\n",
    "# Run the main function\n",
    "asyncio.run(main())"
   ]
  }
 ],
 "metadata": {
  "kernelspec": {
   "display_name": "Python 3",
   "language": "python",
   "name": "python3"
  },
  "language_info": {
   "codemirror_mode": {
    "name": "ipython",
    "version": 3
   },
   "file_extension": ".py",
   "mimetype": "text/x-python",
   "name": "python",
   "nbconvert_exporter": "python",
   "pygments_lexer": "ipython3",
   "version": "3.11.7"
  }
 },
 "nbformat": 4,
 "nbformat_minor": 2
}
