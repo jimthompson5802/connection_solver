{
 "cells": [
  {
   "cell_type": "code",
   "execution_count": 17,
   "metadata": {},
   "outputs": [],
   "source": [
    "from langchain_aws.chat_models.bedrock import (\n",
    "    convert_messages_to_prompt_mistral,\n",
    "    convert_messages_to_prompt_anthropic,\n",
    "    convert_messages_to_prompt_llama,\n",
    "    convert_messages_to_prompt_llama3\n",
    ")\n",
    "\n",
    "from langchain_core.messages import SystemMessage, HumanMessage\n"
   ]
  },
  {
   "cell_type": "markdown",
   "metadata": {},
   "source": [
    "### Original Bedrock Prompt"
   ]
  },
  {
   "cell_type": "code",
   "execution_count": 18,
   "metadata": {},
   "outputs": [
    {
     "name": "stdout",
     "output_type": "stream",
     "text": [
      "system: You are a helpful assistant and very knowledgeable in Geography.\n",
      "human: What is the capital of France?\n"
     ]
    }
   ],
   "source": [
    "prompt = [\n",
    "    SystemMessage(\"You are a helpful assistant and very knowledgeable in Geography.\"),\n",
    "    HumanMessage(\"What is the capital of France?\"),\n",
    "]\n",
    "for p in prompt:\n",
    "    print(f\"{p.type}: {p.content}\")"
   ]
  },
  {
   "cell_type": "markdown",
   "metadata": {},
   "source": [
    "### Bedrock MistralAI"
   ]
  },
  {
   "cell_type": "code",
   "execution_count": 19,
   "metadata": {},
   "outputs": [
    {
     "name": "stdout",
     "output_type": "stream",
     "text": [
      "<<SYS>> You are a helpful assistant and very knowledgeable in Geography. <</SYS>>\n",
      "[INST] What is the capital of France? [/INST]\n"
     ]
    }
   ],
   "source": [
    "print(convert_messages_to_prompt_mistral(prompt))"
   ]
  },
  {
   "cell_type": "markdown",
   "metadata": {},
   "source": [
    "### Bedrock Anthrophic"
   ]
  },
  {
   "cell_type": "code",
   "execution_count": 20,
   "metadata": {},
   "outputs": [
    {
     "name": "stdout",
     "output_type": "stream",
     "text": [
      "You are a helpful assistant and very knowledgeable in Geography.\n",
      "\n",
      "Human: What is the capital of France?\n",
      "\n",
      "Assistant:\n"
     ]
    }
   ],
   "source": [
    "print(convert_messages_to_prompt_anthropic(prompt))"
   ]
  },
  {
   "cell_type": "markdown",
   "metadata": {},
   "source": [
    "### Bedrock Llama and Llama3"
   ]
  },
  {
   "cell_type": "code",
   "execution_count": 21,
   "metadata": {},
   "outputs": [
    {
     "name": "stdout",
     "output_type": "stream",
     "text": [
      "<<SYS>> You are a helpful assistant and very knowledgeable in Geography. <</SYS>>\n",
      "[INST] What is the capital of France? [/INST]\n"
     ]
    }
   ],
   "source": [
    "print(convert_messages_to_prompt_llama(prompt))"
   ]
  },
  {
   "cell_type": "code",
   "execution_count": 22,
   "metadata": {},
   "outputs": [
    {
     "name": "stdout",
     "output_type": "stream",
     "text": [
      "<|begin_of_text|>\n",
      "<|start_header_id|>system<|end_header_id|>You are a helpful assistant and very knowledgeable in Geography.<|eot_id|>\n",
      "<|start_header_id|>user<|end_header_id|>What is the capital of France?<|eot_id|>\n",
      "<|start_header_id|>assistant<|end_header_id|>\n",
      "\n",
      "\n"
     ]
    }
   ],
   "source": [
    "print(convert_messages_to_prompt_llama3(prompt))"
   ]
  }
 ],
 "metadata": {
  "kernelspec": {
   "display_name": "Python 3",
   "language": "python",
   "name": "python3"
  },
  "language_info": {
   "codemirror_mode": {
    "name": "ipython",
    "version": 3
   },
   "file_extension": ".py",
   "mimetype": "text/x-python",
   "name": "python",
   "nbconvert_exporter": "python",
   "pygments_lexer": "ipython3",
   "version": "3.11.7"
  }
 },
 "nbformat": 4,
 "nbformat_minor": 2
}
