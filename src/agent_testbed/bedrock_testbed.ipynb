{
 "cells": [
  {
   "cell_type": "code",
   "execution_count": 1,
   "metadata": {},
   "outputs": [],
   "source": [
    "import os\n",
    "from langchain_aws import ChatBedrock\n",
    "\n"
   ]
  },
  {
   "cell_type": "code",
   "execution_count": 2,
   "metadata": {},
   "outputs": [],
   "source": [
    "\n",
    "# Initialize BedrockChat\n",
    "chat_model = ChatBedrock(\n",
    "    model_id=\"mistral.mistral-7b-instruct-v0:2\",\n",
    "    model_kwargs={\n",
    "        \"max_tokens\": 100,\n",
    "        \"temperature\": 0.7,\n",
    "        \"top_p\": 0.9\n",
    "    }\n",
    ")\n"
   ]
  },
  {
   "cell_type": "code",
   "execution_count": 3,
   "metadata": {},
   "outputs": [
    {
     "name": "stdout",
     "output_type": "stream",
     "text": [
      " Machine learning is a type of artificial intelligence (AI) that allows computers to learn and improve from experience, without being explicitly programmed. In simpler terms, it's a way for computers to automatically learn patterns and make decisions based on data.\n",
      "\n",
      "Imagine you have a large box of emails and you want to teach a computer to identify spam messages. You would feed the computer with examples of spam emails and emails that are not spam. The computer uses this data to learn the\n"
     ]
    }
   ],
   "source": [
    "# Use the model\n",
    "response = chat_model.invoke(\"Explain the concept of machine learning in simple terms.\")\n",
    "print(response.content)\n"
   ]
  },
  {
   "cell_type": "code",
   "execution_count": 5,
   "metadata": {},
   "outputs": [
    {
     "name": "stdout",
     "output_type": "stream",
     "text": [
      " Machines lernen in einfachen Wortbedeutung bedeutet, dass Computer Systeme automatisch Daten aus ihren Umgebung lernen und auf Basis dieser Erfahrungen handeln können, ohne dass ein exakter Algorithmus definiert ist. Das heißt, die Systeme können Beispiele erkennen und daraus Allgemeinheiten ableiten, um später ähnliche Situationen richt\n"
     ]
    }
   ],
   "source": [
    "\n",
    "# Use the model\n",
    "response = await chat_model.ainvoke(\"Explain the concept of machine learning in simple terms in german.\")\n",
    "print(response.content)\n"
   ]
  }
 ],
 "metadata": {
  "kernelspec": {
   "display_name": "Python 3",
   "language": "python",
   "name": "python3"
  },
  "language_info": {
   "codemirror_mode": {
    "name": "ipython",
    "version": 3
   },
   "file_extension": ".py",
   "mimetype": "text/x-python",
   "name": "python",
   "nbconvert_exporter": "python",
   "pygments_lexer": "ipython3",
   "version": "3.11.7"
  }
 },
 "nbformat": 4,
 "nbformat_minor": 2
}
