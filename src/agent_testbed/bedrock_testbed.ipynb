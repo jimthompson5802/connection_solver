{
 "cells": [
  {
   "cell_type": "code",
   "execution_count": 1,
   "metadata": {},
   "outputs": [],
   "source": [
    "import os\n",
    "from langchain_aws import ChatBedrock\n",
    "\n"
   ]
  },
  {
   "cell_type": "code",
   "execution_count": 2,
   "metadata": {},
   "outputs": [
    {
     "name": "stdout",
     "output_type": "stream",
     "text": [
      " Machine learning is a type of artificial intelligence that allows computers to learn and improve from experience without being explicitly programmed. In simpler terms, it's a way for computers to learn patterns and make decisions based on data, rather than being given specific instructions for every situation. For example, a machine learning algorithm could be shown thousands of images of cats and dogs and learn to identify them on its own, without being programmed with the rules for distinguishing the two species. This makes machine learning particularly useful\n"
     ]
    }
   ],
   "source": [
    "\n",
    "# Initialize BedrockChat\n",
    "chat_model = ChatBedrock(\n",
    "    model_id=\"mistral.mistral-7b-instruct-v0:2\",\n",
    "    model_kwargs={\n",
    "        \"max_tokens\": 100,\n",
    "        \"temperature\": 0.7,\n",
    "        \"top_p\": 0.9\n",
    "    }\n",
    ")\n",
    "\n",
    "# Use the model\n",
    "response = chat_model.invoke(\"Explain the concept of machine learning in simple terms.\")\n",
    "print(response.content)\n"
   ]
  }
 ],
 "metadata": {
  "kernelspec": {
   "display_name": "Python 3",
   "language": "python",
   "name": "python3"
  },
  "language_info": {
   "codemirror_mode": {
    "name": "ipython",
    "version": 3
   },
   "file_extension": ".py",
   "mimetype": "text/x-python",
   "name": "python",
   "nbconvert_exporter": "python",
   "pygments_lexer": "ipython3",
   "version": "3.11.7"
  }
 },
 "nbformat": 4,
 "nbformat_minor": 2
}
