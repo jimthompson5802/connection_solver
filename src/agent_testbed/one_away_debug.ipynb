{
 "cells": [
  {
   "cell_type": "code",
   "execution_count": 1,
   "metadata": {},
   "outputs": [
    {
     "name": "stdout",
     "output_type": "stream",
     "text": [
      "/usr/local/lib/python311.zip\n",
      "/usr/local/lib/python3.11\n",
      "/usr/local/lib/python3.11/lib-dynload\n",
      "\n",
      "/usr/local/lib/python3.11/site-packages\n",
      "/workspaces/connection_solver/src/agent\n"
     ]
    }
   ],
   "source": [
    "from dataclasses import dataclass, field\n",
    "\n",
    "\n",
    "import json\n",
    "import os\n",
    "import sys\n",
    "import random\n",
    "\n",
    "import pandas as pd\n",
    "import numpy as np\n",
    "\n",
    "from langchain_core.messages import HumanMessage, SystemMessage\n",
    "from langchain_openai import ChatOpenAI\n",
    "\n",
    "\n",
    "# Import the 'rag_tools' module from the 'agent' directory\n",
    "current_dir = os.getcwd()\n",
    "project_dir = os.path.dirname(current_dir)\n",
    "\n",
    "# Add the 'agent' directory to the sys.path\n",
    "other_dir = os.path.join(project_dir, 'agent')\n",
    "sys.path.append(other_dir)\n",
    "\n",
    "# confirm the 'agent' directory is in the sys.path\n",
    "for p in sys.path:\n",
    "    print(p)\n",
    "\n",
    "from embedvec_tools import one_away_analyzer"
   ]
  },
  {
   "cell_type": "code",
   "execution_count": 2,
   "metadata": {},
   "outputs": [],
   "source": [
    "with open(\"/openai/api_key.json\") as f:\n",
    "    config = json.load(f)\n",
    "\n",
    "\n",
    "os.environ[\"OPENAI_API_KEY\"] = config[\"key\"]"
   ]
  },
  {
   "cell_type": "code",
   "execution_count": 3,
   "metadata": {},
   "outputs": [],
   "source": [
    "words_remaining = [ 'licorice',\n",
    "                           'checkers',\n",
    "                           'ball-in-cup',\n",
    "                           'lollipop',\n",
    "                           'cotton swab',\n",
    "                           'balance sheet',\n",
    "                           'corn dog',\n",
    "                           'roulette']\n",
    "\n",
    "one_away_group = ['corn dog', 'cotton swab', 'licorice', 'lollipop']\n"
   ]
  },
  {
   "cell_type": "code",
   "execution_count": 4,
   "metadata": {},
   "outputs": [
    {
     "name": "stdout",
     "output_type": "stream",
     "text": [
      "\n",
      ">>>Number of single topic groups: 1\n",
      "Only one single-topic group recommendation found.\n",
      "\n",
      ">>>Selected single-topic group:\n",
      "Recommended Group: ('corn dog', 'licorice', 'lollipop')\n",
      "Connection Description: All three words 'corn dog', 'licorice', and 'lollipop' can be related to the single topic of 'snacks or treats'. Corn dogs are often found at fairs or amusement parks as a savory snack, while licorice and lollipops are types of candy or sweet treats. They all fall under the category of foods that are often consumed for enjoyment rather than as a meal, and they share a common context related to casual, often recreational eating.\n",
      "\n",
      ">>>One-away group recommendations:\n",
      "response from one away analyzer\n",
      "Recommended Group: ['corn dog', 'licorice', 'lollipop', 'roulette']\n",
      "Connection Description: Roulette is the most connected to the anchor words 'corn dog', 'licorice', and 'lollipop' as they all share a common context of being associated with fairs, amusement parks, or recreational environments. Roulette is a popular game often found in casinos, which are frequently part of or near amusement or entertainment venues. This connection to recreational and leisurely activities aligns it more closely with the anchor words compared to the other candidates.\n"
     ]
    }
   ],
   "source": [
    "r = one_away_analyzer(one_away_group, words_remaining)\n",
    "\n",
    "print(\"response from one away analyzer\")\n",
    "print(r)"
   ]
  }
 ],
 "metadata": {
  "kernelspec": {
   "display_name": "Python 3",
   "language": "python",
   "name": "python3"
  },
  "language_info": {
   "codemirror_mode": {
    "name": "ipython",
    "version": 3
   },
   "file_extension": ".py",
   "mimetype": "text/x-python",
   "name": "python",
   "nbconvert_exporter": "python",
   "pygments_lexer": "ipython3",
   "version": "3.11.7"
  }
 },
 "nbformat": 4,
 "nbformat_minor": 2
}
