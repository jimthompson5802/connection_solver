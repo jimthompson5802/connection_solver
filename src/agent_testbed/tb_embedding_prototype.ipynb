{
 "cells": [
  {
   "cell_type": "code",
   "execution_count": 1,
   "metadata": {},
   "outputs": [
    {
     "name": "stdout",
     "output_type": "stream",
     "text": [
      "warning: Embedding dir exists, did you set global_step for add_embedding()?\n"
     ]
    }
   ],
   "source": [
    "from torch.utils.tensorboard import SummaryWriter\n",
    "import torch\n",
    "import numpy as np\n",
    "\n",
    "# Create a SummaryWriter to write TensorBoard events\n",
    "writer = SummaryWriter(log_dir='/workspaces/connection_solver/tb_logs/prototype')\n",
    "\n",
    "# Example text embeddings\n",
    "embeddings = np.random.rand(100, 128)  # 100 samples with 128-dimensional embeddings\n",
    "metadata = [f'Sample {i}' for i in range(100)]\n",
    "\n",
    "# Add embeddings to TensorBoard\n",
    "writer.add_embedding(torch.tensor(embeddings), metadata=metadata, tag='text_embeddings')\n",
    "\n",
    "# Close the writer\n",
    "writer.close()"
   ]
  }
 ],
 "metadata": {
  "kernelspec": {
   "display_name": "Python 3",
   "language": "python",
   "name": "python3"
  },
  "language_info": {
   "codemirror_mode": {
    "name": "ipython",
    "version": 3
   },
   "file_extension": ".py",
   "mimetype": "text/x-python",
   "name": "python",
   "nbconvert_exporter": "python",
   "pygments_lexer": "ipython3",
   "version": "3.11.7"
  }
 },
 "nbformat": 4,
 "nbformat_minor": 2
}
