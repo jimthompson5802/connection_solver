{
 "cells": [
  {
   "cell_type": "code",
   "execution_count": 13,
   "metadata": {},
   "outputs": [],
   "source": [
    "import asyncio\n",
    "import random\n",
    "from functools import wraps\n"
   ]
  },
  {
   "cell_type": "code",
   "execution_count": 14,
   "metadata": {},
   "outputs": [],
   "source": [
    "\n",
    "def retry_when_error(max_retries=4, base_delay=1, jitter=0.1):\n",
    "    \"\"\"\n",
    "    A decorator to retry an asynchronous function when an exception occurs.\n",
    "\n",
    "    Parameters:\n",
    "    max_retries (int): The maximum number of retries before giving up. Default is 4.\n",
    "    base_delay (int or float): The base delay between retries in seconds. Default is 1 second.\n",
    "    jitter (float): The maximum random jitter to add to the delay to avoid thundering herd problem. Default is 0.1 seconds.\n",
    "\n",
    "    Returns:\n",
    "    function: A wrapped function that will be retried upon failure.\n",
    "\n",
    "    Example:\n",
    "    @retry_when_error(max_retries=3, base_delay=2, jitter=0.5)\n",
    "    async def my_function():\n",
    "        # function implementation\n",
    "    \"\"\"\n",
    "    def decorator(func):\n",
    "        @wraps(func)\n",
    "        async def wrapper(*args, **kwargs):\n",
    "            retries = 0\n",
    "            while retries < max_retries:\n",
    "                try:\n",
    "                    return await func(*args, **kwargs)\n",
    "                except Exception as e:\n",
    "                    if retries == max_retries - 1:\n",
    "                        print(f\"Failed after {retries + 1} retries\")\n",
    "                        raise\n",
    "                    retries += 1\n",
    "                    delay = (base_delay * 2 ** retries)  + (random.random() * jitter)\n",
    "                    print(f\"Retrying {retries}/{max_retries} with delay {delay:.3f} after error: {e}\")\n",
    "                    await asyncio.sleep(delay)\n",
    "            return await func(*args, **kwargs)\n",
    "        return wrapper\n",
    "    return decorator\n"
   ]
  },
  {
   "cell_type": "code",
   "execution_count": 15,
   "metadata": {},
   "outputs": [],
   "source": [
    "# test it out\n",
    "@retry_when_error(jitter=60)\n",
    "async def test(arg1, kwarg1=None):\n",
    "    if random.random() < 0.5:\n",
    "        raise Exception('test') \n",
    "    \n",
    "    return f\"with normal return {arg1} and {kwarg1}\""
   ]
  },
  {
   "cell_type": "code",
   "execution_count": null,
   "metadata": {},
   "outputs": [],
   "source": []
  },
  {
   "cell_type": "code",
   "execution_count": 16,
   "metadata": {},
   "outputs": [
    {
     "name": "stdout",
     "output_type": "stream",
     "text": [
      "Retrying 1/4 with delay 53.690 after error: test\n",
      "trial 0 with normal return arg1 and kwarg1\n",
      "trial 1 with normal return arg1 and kwarg1\n",
      "trial 2 with normal return arg1 and kwarg1\n",
      "Retrying 1/4 with delay 30.101 after error: test\n",
      "Retrying 2/4 with delay 39.830 after error: test\n",
      "Retrying 3/4 with delay 26.572 after error: test\n",
      "trial 3 with normal return arg1 and kwarg1\n",
      "trial 4 with normal return arg1 and kwarg1\n",
      "trial 5 with normal return arg1 and kwarg1\n",
      "Retrying 1/4 with delay 18.580 after error: test\n",
      "Retrying 2/4 with delay 8.008 after error: test\n",
      "trial 6 with normal return arg1 and kwarg1\n",
      "trial 7 with normal return arg1 and kwarg1\n",
      "trial 8 with normal return arg1 and kwarg1\n",
      "trial 9 with normal return arg1 and kwarg1\n"
     ]
    }
   ],
   "source": [
    "for i in range(10):\n",
    "    print(f\"trial {i} {await test('arg1', kwarg1='kwarg1')}\")"
   ]
  }
 ],
 "metadata": {
  "kernelspec": {
   "display_name": "Python 3",
   "language": "python",
   "name": "python3"
  },
  "language_info": {
   "codemirror_mode": {
    "name": "ipython",
    "version": 3
   },
   "file_extension": ".py",
   "mimetype": "text/x-python",
   "name": "python",
   "nbconvert_exporter": "python",
   "pygments_lexer": "ipython3",
   "version": "3.11.7"
  }
 },
 "nbformat": 4,
 "nbformat_minor": 2
}
